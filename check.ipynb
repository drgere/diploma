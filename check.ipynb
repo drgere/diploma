{
 "cells": [
  {
   "cell_type": "code",
   "execution_count": 104,
   "id": "31796be9",
   "metadata": {},
   "outputs": [],
   "source": [
    "import json\n",
    "import os\n",
    "\n",
    "import numpy as np\n",
    "from itertools import combinations\n",
    "from nltk.tokenize import word_tokenize\n",
    "import nltk\n",
    "import matplotlib.pyplot as plt"
   ]
  },
  {
   "cell_type": "code",
   "execution_count": 1,
   "id": "b9156e13",
   "metadata": {},
   "outputs": [
    {
     "ename": "ModuleNotFoundError",
     "evalue": "No module named 'scipy'",
     "output_type": "error",
     "traceback": [
      "\u001b[0;31m---------------------------------------------------------------------------\u001b[0m",
      "\u001b[0;31mModuleNotFoundError\u001b[0m                       Traceback (most recent call last)",
      "Input \u001b[0;32mIn [1]\u001b[0m, in \u001b[0;36m<cell line: 1>\u001b[0;34m()\u001b[0m\n\u001b[0;32m----> 1\u001b[0m \u001b[38;5;28;01mimport\u001b[39;00m \u001b[38;5;21;01mscipy\u001b[39;00m\n",
      "\u001b[0;31mModuleNotFoundError\u001b[0m: No module named 'scipy'"
     ]
    }
   ],
   "source": [
    "import scipy"
   ]
  },
  {
   "cell_type": "code",
   "execution_count": 4,
   "id": "07653cad",
   "metadata": {},
   "outputs": [],
   "source": [
    "import torchtext"
   ]
  },
  {
   "cell_type": "code",
   "execution_count": 5,
   "id": "6d2399bc",
   "metadata": {},
   "outputs": [
    {
     "data": {
      "text/plain": [
       "'0.12.0'"
      ]
     },
     "execution_count": 5,
     "metadata": {},
     "output_type": "execute_result"
    }
   ],
   "source": [
    "torchtext.__version__"
   ]
  },
  {
   "cell_type": "code",
   "execution_count": 2,
   "id": "6c8972db",
   "metadata": {},
   "outputs": [],
   "source": [
    "PATH_TO_DATASET = \"/my-docker-container/codwoe/data/train-data_all\""
   ]
  },
  {
   "cell_type": "code",
   "execution_count": 3,
   "id": "10718f48",
   "metadata": {},
   "outputs": [
    {
     "data": {
      "text/plain": [
       "['en.dev.json',\n",
       " 'en.train.json',\n",
       " 'es.dev.json',\n",
       " 'es.train.json',\n",
       " 'fr.dev.json',\n",
       " 'fr.train.json',\n",
       " 'it.dev.json',\n",
       " 'it.train.json',\n",
       " 'ru.dev.json',\n",
       " 'ru.train.json']"
      ]
     },
     "execution_count": 3,
     "metadata": {},
     "output_type": "execute_result"
    }
   ],
   "source": [
    "os.listdir(PATH_TO_DATASET)"
   ]
  },
  {
   "cell_type": "code",
   "execution_count": 4,
   "id": "751b62b3",
   "metadata": {},
   "outputs": [
    {
     "name": "stdout",
     "output_type": "stream",
     "text": [
      "/my-docker-container/codwoe/data/train-data_all/en.dev.json\n",
      "/my-docker-container/codwoe/data/train-data_all/en.train.json\n",
      "/my-docker-container/codwoe/data/train-data_all/es.dev.json\n",
      "/my-docker-container/codwoe/data/train-data_all/es.train.json\n",
      "/my-docker-container/codwoe/data/train-data_all/fr.dev.json\n",
      "/my-docker-container/codwoe/data/train-data_all/fr.train.json\n",
      "/my-docker-container/codwoe/data/train-data_all/it.dev.json\n",
      "/my-docker-container/codwoe/data/train-data_all/it.train.json\n",
      "/my-docker-container/codwoe/data/train-data_all/ru.dev.json\n",
      "/my-docker-container/codwoe/data/train-data_all/ru.train.json\n"
     ]
    }
   ],
   "source": [
    "languages = []\n",
    "dataset_lengths = dict()\n",
    "for file_name in os.listdir(PATH_TO_DATASET):\n",
    "    w = [PATH_TO_DATASET, file_name]\n",
    "    print('/'.join(w))\n",
    "    \n",
    "    #изучаем сколько слов в каждом из файлов\n",
    "    with open('/'.join(w), \"r\") as file_handler:\n",
    "        dataset = json.load(file_handler)\n",
    "        dataset_lengths[file_name] = len(dataset)\n",
    "        \n",
    "    #собираем все языки в список\n",
    "    languages.append(file_name.split('.')[0])\n"
   ]
  },
  {
   "cell_type": "code",
   "execution_count": 5,
   "id": "78d1b1a5",
   "metadata": {},
   "outputs": [
    {
     "name": "stdout",
     "output_type": "stream",
     "text": [
      "{'fr', 'en', 'es', 'it', 'ru'}\n"
     ]
    }
   ],
   "source": [
    "print(set(languages))"
   ]
  },
  {
   "cell_type": "code",
   "execution_count": 6,
   "id": "f2ed9b1d",
   "metadata": {},
   "outputs": [
    {
     "name": "stdout",
     "output_type": "stream",
     "text": [
      "{'en.dev.json': 6375, 'en.train.json': 43608, 'es.dev.json': 6375, 'es.train.json': 43608, 'fr.dev.json': 6375, 'fr.train.json': 43608, 'it.dev.json': 6375, 'it.train.json': 43608, 'ru.dev.json': 6375, 'ru.train.json': 43608}\n"
     ]
    }
   ],
   "source": [
    "print(dataset_lengths)"
   ]
  },
  {
   "cell_type": "code",
   "execution_count": 7,
   "id": "d4cf4575",
   "metadata": {},
   "outputs": [],
   "source": [
    "test_element = dataset[0]"
   ]
  },
  {
   "cell_type": "code",
   "execution_count": 8,
   "id": "1e355f39",
   "metadata": {},
   "outputs": [
    {
     "data": {
      "text/plain": [
       "dict_keys(['id', 'gloss', 'sgns', 'char', 'electra'])"
      ]
     },
     "execution_count": 8,
     "metadata": {},
     "output_type": "execute_result"
    }
   ],
   "source": [
    "test_element.keys()"
   ]
  },
  {
   "cell_type": "code",
   "execution_count": 9,
   "id": "305ed6f9",
   "metadata": {},
   "outputs": [
    {
     "data": {
      "text/plain": [
       "256"
      ]
     },
     "execution_count": 9,
     "metadata": {},
     "output_type": "execute_result"
    }
   ],
   "source": [
    "len(test_element[\"sgns\"])"
   ]
  },
  {
   "cell_type": "code",
   "execution_count": 10,
   "id": "38812583",
   "metadata": {},
   "outputs": [
    {
     "data": {
      "text/plain": [
       "256"
      ]
     },
     "execution_count": 10,
     "metadata": {},
     "output_type": "execute_result"
    }
   ],
   "source": [
    "len(test_element[\"electra\"])"
   ]
  },
  {
   "cell_type": "code",
   "execution_count": 11,
   "id": "ab8a5117",
   "metadata": {},
   "outputs": [
    {
     "data": {
      "text/plain": [
       "256"
      ]
     },
     "execution_count": 11,
     "metadata": {},
     "output_type": "execute_result"
    }
   ],
   "source": [
    "len(test_element[\"char\"])"
   ]
  },
  {
   "cell_type": "markdown",
   "id": "67b9293e",
   "metadata": {},
   "source": [
    "Размерность всех эмбеддингов одинаковая - равна 256  \n",
    "Каждый из 5 языков имеет 43608 слов в train и 6375 в dev  "
   ]
  },
  {
   "cell_type": "code",
   "execution_count": 2,
   "id": "61ad6cc9",
   "metadata": {},
   "outputs": [],
   "source": [
    "PATH_ru_train = \"/my-docker-container/codwoe/data/train-data_all/ru.train.json\""
   ]
  },
  {
   "cell_type": "code",
   "execution_count": 3,
   "id": "4d1b8de9",
   "metadata": {},
   "outputs": [],
   "source": [
    "with open(PATH_ru_train, \"r\") as file_handler:\n",
    "        dataset = json.load(file_handler)"
   ]
  },
  {
   "cell_type": "code",
   "execution_count": 4,
   "id": "79c9d0a6",
   "metadata": {},
   "outputs": [
    {
     "name": "stdout",
     "output_type": "stream",
     "text": [
      "действие по значению гл . эмигрировать ; переселение из своего отечества в другую страну\n"
     ]
    }
   ],
   "source": [
    "print(dataset[5]['gloss'])"
   ]
  },
  {
   "cell_type": "code",
   "execution_count": 15,
   "id": "e303e324",
   "metadata": {
    "scrolled": true
   },
   "outputs": [
    {
     "name": "stdout",
     "output_type": "stream",
     "text": [
      "\n",
      "ru.train.6: действие по значению гл . эмигрировать ; переселение из своего отечества в другую страну\n",
      "\n",
      "ru.train.11: неперех. , разг . катясь , перемещаться откуда-либо ; выезжать\n",
      "\n",
      "ru.train.16: перен . интенсивно , активно\n",
      "\n",
      "ru.train.21: результат такого действия\n",
      "\n",
      "ru.train.26: женск . к торговец\n",
      "\n",
      "ru.train.31: воен . увеличение длины формирования при его движении\n",
      "\n",
      "ru.train.36: связанный с каменным углем или с его добычей\n",
      "\n",
      "ru.train.41: свойственный аэродрому , характерный для него\n",
      "\n",
      "ru.train.46: устар . наперебой\n",
      "\n",
      "ru.train.51: действие по значению гл . опустошать , опустошить\n",
      "\n",
      "ru.train.56: рег . ( южн.-русск . ) удобрение парового поля при помощи оставления на ночь скота ( обычно овец ) на нём\n",
      "\n",
      "ru.train.61: комп . часть операционной системы , отвечающая за загрузку исполняемых файлов и запуск соответствующих новых процессов\n",
      "\n",
      "ru.train.66: устар. , рег . тина или ряска на воде\n"
     ]
    }
   ],
   "source": [
    "for i in range(5, 70, 5):\n",
    "    print()\n",
    "    g = dataset[i]['gloss']\n",
    "    index = dataset[i]['id']\n",
    "    \n",
    "    print('{}: {}'.format(index, g))"
   ]
  },
  {
   "cell_type": "code",
   "execution_count": 19,
   "id": "a0a99913",
   "metadata": {},
   "outputs": [
    {
     "data": {
      "text/plain": [
       "dict"
      ]
     },
     "execution_count": 19,
     "metadata": {},
     "output_type": "execute_result"
    }
   ],
   "source": [
    "type(dataset[i])"
   ]
  },
  {
   "cell_type": "code",
   "execution_count": 10,
   "id": "cc65e322",
   "metadata": {},
   "outputs": [
    {
     "name": "stdout",
     "output_type": "stream",
     "text": [
      "ru.train.66\n"
     ]
    }
   ],
   "source": [
    "print(dataset[i]['id'])"
   ]
  },
  {
   "cell_type": "code",
   "execution_count": 43,
   "id": "6a77c5da",
   "metadata": {},
   "outputs": [],
   "source": [
    "def gloss_to_id_mapping(dataset, include_none=True):\n",
    "    \"\"\"      \n",
    "    \n",
    "    Функция, которая для каждого уникального определения\n",
    "    данного датасета соотносит все id слов.\n",
    "    \n",
    "    dataset - список словарей\n",
    "    include_none - включает id значений которых None, если True\n",
    "    \n",
    "    Возвращает словарь, ключи которого является определением,\n",
    "    а значение - списком id слова\n",
    " \n",
    "    \"\"\"\n",
    "    \n",
    "    gloss_to_id_dict = dict()\n",
    "\n",
    "    for d in dataset:\n",
    "        g1 = d['gloss']\n",
    "        index = d['id']\n",
    "        \n",
    "        if index is None and not include_none:\n",
    "            continue \n",
    "\n",
    "        if g1 in list(gloss_to_id_dict.keys()):\n",
    "            gloss_to_id_dict[g1].append(index)\n",
    "        else:\n",
    "            gloss_to_id_dict[g1] = [index]\n",
    "            \n",
    "            \n",
    "    return gloss_to_id_dict"
   ]
  },
  {
   "cell_type": "code",
   "execution_count": 44,
   "id": "1b44aaee",
   "metadata": {},
   "outputs": [],
   "source": [
    "gloss_to_id_with_None =  gloss_to_id_mapping(dataset, include_none=True)\n",
    "gloss_to_id_without_None = gloss_to_id_mapping(dataset, include_none=False)"
   ]
  },
  {
   "cell_type": "code",
   "execution_count": 33,
   "id": "6e8720d7",
   "metadata": {},
   "outputs": [],
   "source": [
    "#Подсчет нанов\n",
    "n = 0\n",
    "for f in dataset:\n",
    "    if f['id'] is None:\n",
    "        n += 1\n",
    "        "
   ]
  },
  {
   "cell_type": "code",
   "execution_count": 34,
   "id": "b994a59f",
   "metadata": {},
   "outputs": [
    {
     "data": {
      "text/plain": [
       "19462"
      ]
     },
     "execution_count": 34,
     "metadata": {},
     "output_type": "execute_result"
    }
   ],
   "source": [
    "n"
   ]
  },
  {
   "cell_type": "code",
   "execution_count": 45,
   "id": "ae4ac2ae",
   "metadata": {},
   "outputs": [],
   "source": [
    "#Подсчет дубликатов с учетом None\n",
    "dublicate_count_with_None = 0\n",
    "for f in gloss_to_id_with_None:\n",
    "    if len(gloss_to_id_with_None[f]) >= 2:\n",
    "        dublicate_count_with_None += 1\n",
    "        \n",
    "#Подсчет дубликатов без учетов None\n",
    "dublicate_count_without_None = 0\n",
    "\n",
    "for f in gloss_to_id_without_None:\n",
    "    if len(gloss_to_id_without_None[f]) >= 2:\n",
    "        dublicate_count_without_None += 1\n",
    "        \n",
    "        "
   ]
  },
  {
   "cell_type": "code",
   "execution_count": 46,
   "id": "75082176",
   "metadata": {},
   "outputs": [
    {
     "data": {
      "text/plain": [
       "8660"
      ]
     },
     "execution_count": 46,
     "metadata": {},
     "output_type": "execute_result"
    }
   ],
   "source": [
    "dublicate_count_with_None"
   ]
  },
  {
   "cell_type": "code",
   "execution_count": 47,
   "id": "855f5a39",
   "metadata": {},
   "outputs": [
    {
     "data": {
      "text/plain": [
       "3563"
      ]
     },
     "execution_count": 47,
     "metadata": {},
     "output_type": "execute_result"
    }
   ],
   "source": [
    "dublicate_count_without_None"
   ]
  },
  {
   "cell_type": "code",
   "execution_count": 48,
   "id": "1f9304ea",
   "metadata": {},
   "outputs": [
    {
     "data": {
      "text/plain": [
       "0.28199283620970367"
      ]
     },
     "execution_count": 48,
     "metadata": {},
     "output_type": "execute_result"
    }
   ],
   "source": [
    "#Процентное соотношение\n",
    "dublicate_count_with_None/len(gloss_to_id_with_None)"
   ]
  },
  {
   "cell_type": "code",
   "execution_count": 49,
   "id": "eecb28f0",
   "metadata": {},
   "outputs": [
    {
     "data": {
      "text/plain": [
       "0.18367872976595526"
      ]
     },
     "execution_count": 49,
     "metadata": {},
     "output_type": "execute_result"
    }
   ],
   "source": [
    "#Процентное соотношение\n",
    "dublicate_count_without_None/len(gloss_to_id_without_None)"
   ]
  },
  {
   "cell_type": "code",
   "execution_count": 53,
   "id": "e9c61c28",
   "metadata": {},
   "outputs": [],
   "source": [
    "dublicates_id = []\n",
    "for i in gloss_to_id_without_None:\n",
    "    if len(gloss_to_id_without_None[i]) > 1:\n",
    "        dublicates_id.append(gloss_to_id_without_None[i])\n",
    "        if len(dublicates_id) > 15:\n",
    "            break\n",
    "        \n"
   ]
  },
  {
   "cell_type": "code",
   "execution_count": 54,
   "id": "d2ebccf9",
   "metadata": {},
   "outputs": [
    {
     "data": {
      "text/plain": [
       "[['ru.train.1', 'ru.train.19649'],\n",
       " ['ru.train.2', 'ru.train.10054'],\n",
       " ['ru.train.7', 'ru.train.22639'],\n",
       " ['ru.train.14', 'ru.train.18716', 'ru.train.19229'],\n",
       " ['ru.train.15', 'ru.train.5062'],\n",
       " ['ru.train.19', 'ru.train.21918', 'ru.train.23737'],\n",
       " ['ru.train.21',\n",
       "  'ru.train.47',\n",
       "  'ru.train.673',\n",
       "  'ru.train.2601',\n",
       "  'ru.train.3748',\n",
       "  'ru.train.5091',\n",
       "  'ru.train.9517',\n",
       "  'ru.train.14298',\n",
       "  'ru.train.15485',\n",
       "  'ru.train.16721',\n",
       "  'ru.train.18186',\n",
       "  'ru.train.20261',\n",
       "  'ru.train.21906',\n",
       "  'ru.train.22360'],\n",
       " ['ru.train.24', 'ru.train.8919'],\n",
       " ['ru.train.31', 'ru.train.6541'],\n",
       " ['ru.train.34', 'ru.train.15500'],\n",
       " ['ru.train.35', 'ru.train.13356'],\n",
       " ['ru.train.36', 'ru.train.20368'],\n",
       " ['ru.train.43', 'ru.train.5965'],\n",
       " ['ru.train.46', 'ru.train.7605'],\n",
       " ['ru.train.50', 'ru.train.5060', 'ru.train.13924'],\n",
       " ['ru.train.65', 'ru.train.12601', 'ru.train.23342']]"
      ]
     },
     "execution_count": 54,
     "metadata": {},
     "output_type": "execute_result"
    }
   ],
   "source": [
    "dublicates_id"
   ]
  },
  {
   "cell_type": "code",
   "execution_count": 59,
   "id": "f121bac9",
   "metadata": {},
   "outputs": [
    {
     "data": {
      "text/plain": [
       "False"
      ]
     },
     "execution_count": 59,
     "metadata": {},
     "output_type": "execute_result"
    }
   ],
   "source": [
    "6 in [1, 2, 3, 4]"
   ]
  },
  {
   "cell_type": "code",
   "execution_count": 67,
   "id": "2a5c1d33",
   "metadata": {},
   "outputs": [],
   "source": [
    "#Принимает на вход list id-ишников и возвращает три списка векторов\n",
    "def get_vectors(ids_list):\n",
    "    sgns = []\n",
    "    char = []\n",
    "    electra = []\n",
    "    for entry in dataset:\n",
    "        if entry['id'] in ids_list:\n",
    "            sgns.append(np.asarray(entry['sgns']))\n",
    "            char.append(np.asarray(entry['char']))\n",
    "            electra.append(np.asarray(entry['electra']))\n",
    "    return sgns, char, electra\n",
    "            \n",
    "            "
   ]
  },
  {
   "cell_type": "code",
   "execution_count": 68,
   "id": "e82b6aa5",
   "metadata": {},
   "outputs": [],
   "source": [
    "sgns, char, electra = get_vectors(dublicates_id[0])"
   ]
  },
  {
   "cell_type": "code",
   "execution_count": 69,
   "id": "4ddb0ef9",
   "metadata": {},
   "outputs": [
    {
     "data": {
      "text/plain": [
       "numpy.ndarray"
      ]
     },
     "execution_count": 69,
     "metadata": {},
     "output_type": "execute_result"
    }
   ],
   "source": [
    "type(sgns[0])"
   ]
  },
  {
   "cell_type": "code",
   "execution_count": 74,
   "id": "04ea3440",
   "metadata": {},
   "outputs": [
    {
     "data": {
      "text/plain": [
       "True"
      ]
     },
     "execution_count": 74,
     "metadata": {},
     "output_type": "execute_result"
    }
   ],
   "source": [
    "np.array_equal(sgns[0], sgns[1])"
   ]
  },
  {
   "cell_type": "code",
   "execution_count": 72,
   "id": "2a45da7b",
   "metadata": {},
   "outputs": [
    {
     "data": {
      "text/plain": [
       "(256,)"
      ]
     },
     "execution_count": 72,
     "metadata": {},
     "output_type": "execute_result"
    }
   ],
   "source": [
    "sgns[0].shape"
   ]
  },
  {
   "cell_type": "code",
   "execution_count": null,
   "id": "b3ac60a0",
   "metadata": {},
   "outputs": [],
   "source": [
    "'sgns', 'char', 'electra'"
   ]
  },
  {
   "cell_type": "code",
   "execution_count": 77,
   "id": "a15fe1a9",
   "metadata": {},
   "outputs": [],
   "source": [
    "#Принимает на вход list векторов и попарно сравнивает все\n",
    "def vectors_compare(vector_list):\n",
    "    for pair in combinations(vector_list, 2):\n",
    "        if not np.array_equal(pair[0], pair[1]):\n",
    "            return False\n",
    "    return True"
   ]
  },
  {
   "cell_type": "code",
   "execution_count": 79,
   "id": "35c14859",
   "metadata": {},
   "outputs": [
    {
     "data": {
      "text/plain": [
       "True"
      ]
     },
     "execution_count": 79,
     "metadata": {},
     "output_type": "execute_result"
    }
   ],
   "source": [
    "vectors_compare(sgns)"
   ]
  },
  {
   "cell_type": "code",
   "execution_count": 83,
   "id": "0dfaf5b6",
   "metadata": {},
   "outputs": [],
   "source": [
    "#Сравнение вектором 16 дубликатов\n",
    "compare_results = []\n",
    "for index in dublicates_id:\n",
    "    sgns, char, electra = get_vectors(index)\n",
    "    result_sgns = vectors_compare(sgns)\n",
    "    result_char = vectors_compare(char) \n",
    "    result_electra = vectors_compare(electra)\n",
    "    compare_results.append({'sgns': result_sgns, 'char': result_char, 'electra': result_electra})\n",
    "    "
   ]
  },
  {
   "cell_type": "code",
   "execution_count": 85,
   "id": "56e2bd87",
   "metadata": {},
   "outputs": [
    {
     "data": {
      "text/plain": [
       "16"
      ]
     },
     "execution_count": 85,
     "metadata": {},
     "output_type": "execute_result"
    }
   ],
   "source": [
    "len(dublicates_id)"
   ]
  },
  {
   "cell_type": "code",
   "execution_count": 84,
   "id": "103cc8a1",
   "metadata": {},
   "outputs": [
    {
     "data": {
      "text/plain": [
       "[{'sgns': True, 'char': True, 'electra': False},\n",
       " {'sgns': True, 'char': True, 'electra': False},\n",
       " {'sgns': True, 'char': True, 'electra': False},\n",
       " {'sgns': True, 'char': True, 'electra': False},\n",
       " {'sgns': True, 'char': True, 'electra': False},\n",
       " {'sgns': True, 'char': True, 'electra': False},\n",
       " {'sgns': False, 'char': False, 'electra': False},\n",
       " {'sgns': True, 'char': True, 'electra': False},\n",
       " {'sgns': True, 'char': True, 'electra': False},\n",
       " {'sgns': True, 'char': True, 'electra': False},\n",
       " {'sgns': True, 'char': True, 'electra': False},\n",
       " {'sgns': True, 'char': True, 'electra': False},\n",
       " {'sgns': True, 'char': True, 'electra': False},\n",
       " {'sgns': True, 'char': True, 'electra': False},\n",
       " {'sgns': True, 'char': True, 'electra': False},\n",
       " {'sgns': True, 'char': True, 'electra': False}]"
      ]
     },
     "execution_count": 84,
     "metadata": {},
     "output_type": "execute_result"
    }
   ],
   "source": [
    "compare_results"
   ]
  },
  {
   "cell_type": "code",
   "execution_count": 99,
   "id": "db870a26",
   "metadata": {},
   "outputs": [
    {
     "data": {
      "text/plain": [
       "['So',\n",
       " 'basically',\n",
       " 'tokenizing',\n",
       " 'involves',\n",
       " 'splitting',\n",
       " 'sentences',\n",
       " 'and',\n",
       " 'words',\n",
       " 'from',\n",
       " 'the',\n",
       " 'body',\n",
       " 'of',\n",
       " 'the',\n",
       " 'text',\n",
       " 'import',\n",
       " 'the',\n",
       " 'existing',\n",
       " 'word',\n",
       " 'and',\n",
       " 'sentence',\n",
       " 'tokenizing',\n",
       " 'libraries',\n",
       " 'from',\n",
       " 'nltk',\n",
       " 'tokenize',\n",
       " 'import',\n",
       " 'sent_tokenize',\n",
       " 'word_tokenize',\n",
       " 'text',\n",
       " 'Natural',\n",
       " 'language',\n",
       " 'processing',\n",
       " 'NLP',\n",
       " 'is',\n",
       " 'a',\n",
       " 'field']"
      ]
     },
     "execution_count": 99,
     "metadata": {},
     "output_type": "execute_result"
    }
   ],
   "source": [
    "tokenizer = nltk.RegexpTokenizer(r\"\\w+\")\n",
    "tokenizer.tokenize('So basically tokenizing involves splitting sentences and words from the body of the text. import the existing word and sentence tokenizing. libraries. from nltk.tokenize import sent_tokenize, word_tokenize. text = Natural language processing (NLP) is a field  + ')\n",
    "\n"
   ]
  },
  {
   "cell_type": "code",
   "execution_count": 100,
   "id": "d629fda4",
   "metadata": {},
   "outputs": [],
   "source": [
    "len_token = []\n",
    "for i in dataset:\n",
    "    text = i['gloss']\n",
    "    token = tokenizer.tokenize(text)\n",
    "    \n",
    "    len_token.append(len(token))\n",
    "    "
   ]
  },
  {
   "cell_type": "code",
   "execution_count": 103,
   "id": "ea72835e",
   "metadata": {},
   "outputs": [
    {
     "data": {
      "text/plain": [
       "43608"
      ]
     },
     "execution_count": 103,
     "metadata": {},
     "output_type": "execute_result"
    }
   ],
   "source": [
    "len(len_token)"
   ]
  },
  {
   "cell_type": "code",
   "execution_count": 110,
   "id": "27816bf6",
   "metadata": {},
   "outputs": [
    {
     "data": {
      "image/png": "[encoded data removed]",
      "text/plain": [
       "<Figure size 864x864 with 1 Axes>"
      ]
     },
     "metadata": {
      "needs_background": "light"
     },
     "output_type": "display_data"
    }
   ],
   "source": [
    "plt.rcParams[\"figure.figsize\"] = (12, 12)\n",
    "n, bins, patches = plt.hist(len_token, bins=20)\n",
    "plt.show()"
   ]
  },
  {
   "cell_type": "code",
   "execution_count": 106,
   "id": "49bdcd4b",
   "metadata": {},
   "outputs": [
    {
     "data": {
      "text/plain": [
       "124"
      ]
     },
     "execution_count": 106,
     "metadata": {},
     "output_type": "execute_result"
    }
   ],
   "source": [
    "max(len_token)"
   ]
  },
  {
   "cell_type": "code",
   "execution_count": 107,
   "id": "aaae0f2c",
   "metadata": {},
   "outputs": [
    {
     "data": {
      "text/plain": [
       "1"
      ]
     },
     "execution_count": 107,
     "metadata": {},
     "output_type": "execute_result"
    }
   ],
   "source": [
    "min(len_token)"
   ]
  },
  {
   "cell_type": "code",
   "execution_count": 109,
   "id": "94c2e293",
   "metadata": {},
   "outputs": [
    {
     "data": {
      "text/plain": [
       "array([  1. ,  13.3,  25.6,  37.9,  50.2,  62.5,  74.8,  87.1,  99.4,\n",
       "       111.7, 124. ])"
      ]
     },
     "execution_count": 109,
     "metadata": {},
     "output_type": "execute_result"
    }
   ],
   "source": [
    "bins"
   ]
  },
  {
   "cell_type": "code",
   "execution_count": 117,
   "id": "a4fb2530",
   "metadata": {},
   "outputs": [
    {
     "data": {
      "image/png": "[encoded data removed]",
      "text/plain": [
       "<Figure size 864x864 with 1 Axes>"
      ]
     },
     "metadata": {
      "needs_background": "light"
     },
     "output_type": "display_data"
    }
   ],
   "source": [
    "plt.boxplot(len_token)\n",
    "plt.show()"
   ]
  },
  {
   "cell_type": "code",
   "execution_count": 119,
   "id": "d8d27b05",
   "metadata": {},
   "outputs": [
    {
     "data": {
      "image/png": "[encoded data removed]",
      "text/plain": [
       "<Figure size 864x864 with 1 Axes>"
      ]
     },
     "metadata": {
      "needs_background": "light"
     },
     "output_type": "display_data"
    }
   ],
   "source": [
    "plt.boxplot([i for i in len_token if i <= 40])\n",
    "plt.show()\n"
   ]
  },
  {
   "cell_type": "code",
   "execution_count": 116,
   "id": "98972824",
   "metadata": {},
   "outputs": [
    {
     "data": {
      "image/png": "[encoded data removed]",
      "text/plain": [
       "<Figure size 864x864 with 1 Axes>"
      ]
     },
     "metadata": {
      "needs_background": "light"
     },
     "output_type": "display_data"
    }
   ],
   "source": [
    "plt.rcParams[\"figure.figsize\"] = (12, 12)\n",
    "n, bins, patches = plt.hist(sorted(len_token)[:30000], bins=20)\n",
    "plt.show()"
   ]
  },
  {
   "cell_type": "code",
   "execution_count": null,
   "id": "7f0023ab",
   "metadata": {},
   "outputs": [],
   "source": [
    "languages = []\n",
    "dataset_lengths = dict()\n",
    "for file_name in os.listdir(PATH_TO_DATASET):\n",
    "    w = [PATH_TO_DATASET, file_name]\n",
    "    print('/'.join(w))\n",
    "    \n",
    "    #изучаем сколько слов в каждом из файлов\n",
    "    with open('/'.join(w), \"r\") as file_handler:\n",
    "        dataset = json.load(file_handler)"
   ]
  }
 ],
 "metadata": {
  "kernelspec": {
   "display_name": "Python 3 (ipykernel)",
   "language": "python",
   "name": "python3"
  },
  "language_info": {
   "codemirror_mode": {
    "name": "ipython",
    "version": 3
   },
   "file_extension": ".py",
   "mimetype": "text/x-python",
   "name": "python",
   "nbconvert_exporter": "python",
   "pygments_lexer": "ipython3",
   "version": "3.8.12"
  }
 },
 "nbformat": 4,
 "nbformat_minor": 5
}
