{
 "cells": [
  {
   "cell_type": "code",
   "execution_count": 8,
   "metadata": {},
   "outputs": [
    {
     "name": "stdout",
     "output_type": "stream",
     "text": [
      "The autoreload extension is already loaded. To reload it, use:\n",
      "  %reload_ext autoreload\n"
     ]
    }
   ],
   "source": [
    "%config Completer.use_jedi = False\n",
    "%load_ext autoreload\n",
    "%autoreload 2"
   ]
  },
  {
   "cell_type": "code",
   "execution_count": 9,
   "metadata": {},
   "outputs": [
    {
     "ename": "ModuleNotFoundError",
     "evalue": "No module named 'tensorboard'",
     "output_type": "error",
     "traceback": [
      "\u001b[0;31m---------------------------------------------------------------------------\u001b[0m",
      "\u001b[0;31mModuleNotFoundError\u001b[0m                       Traceback (most recent call last)",
      "\u001b[0;32m<ipython-input-9-96e5b549c387>\u001b[0m in \u001b[0;36m<module>\u001b[0;34m\u001b[0m\n\u001b[1;32m      6\u001b[0m \u001b[0;32mimport\u001b[0m \u001b[0mtorch\u001b[0m\u001b[0;34m.\u001b[0m\u001b[0mnn\u001b[0m\u001b[0;34m.\u001b[0m\u001b[0mfunctional\u001b[0m \u001b[0;32mas\u001b[0m \u001b[0mF\u001b[0m\u001b[0;34m\u001b[0m\u001b[0;34m\u001b[0m\u001b[0m\n\u001b[1;32m      7\u001b[0m \u001b[0;32mimport\u001b[0m \u001b[0mtorch\u001b[0m\u001b[0;34m.\u001b[0m\u001b[0moptim\u001b[0m \u001b[0;32mas\u001b[0m \u001b[0moptim\u001b[0m\u001b[0;34m\u001b[0m\u001b[0;34m\u001b[0m\u001b[0m\n\u001b[0;32m----> 8\u001b[0;31m \u001b[0;32mfrom\u001b[0m \u001b[0mtorch\u001b[0m\u001b[0;34m.\u001b[0m\u001b[0mutils\u001b[0m\u001b[0;34m.\u001b[0m\u001b[0mtensorboard\u001b[0m \u001b[0;32mimport\u001b[0m \u001b[0mSummaryWriter\u001b[0m\u001b[0;34m\u001b[0m\u001b[0;34m\u001b[0m\u001b[0m\n\u001b[0m\u001b[1;32m      9\u001b[0m \u001b[0;34m\u001b[0m\u001b[0m\n\u001b[1;32m     10\u001b[0m \u001b[0;32mimport\u001b[0m \u001b[0mtqdm\u001b[0m\u001b[0;34m\u001b[0m\u001b[0;34m\u001b[0m\u001b[0m\n",
      "\u001b[0;32m~/anaconda3/lib/python3.7/site-packages/torch/utils/tensorboard/__init__.py\u001b[0m in \u001b[0;36m<module>\u001b[0;34m\u001b[0m\n\u001b[0;32m----> 1\u001b[0;31m \u001b[0;32mimport\u001b[0m \u001b[0mtensorboard\u001b[0m\u001b[0;34m\u001b[0m\u001b[0;34m\u001b[0m\u001b[0m\n\u001b[0m\u001b[1;32m      2\u001b[0m \u001b[0;32mfrom\u001b[0m \u001b[0msetuptools\u001b[0m \u001b[0;32mimport\u001b[0m \u001b[0mdistutils\u001b[0m\u001b[0;34m\u001b[0m\u001b[0;34m\u001b[0m\u001b[0m\n\u001b[1;32m      3\u001b[0m \u001b[0;34m\u001b[0m\u001b[0m\n\u001b[1;32m      4\u001b[0m \u001b[0mLooseVersion\u001b[0m \u001b[0;34m=\u001b[0m \u001b[0mdistutils\u001b[0m\u001b[0;34m.\u001b[0m\u001b[0mversion\u001b[0m\u001b[0;34m.\u001b[0m\u001b[0mLooseVersion\u001b[0m\u001b[0;34m\u001b[0m\u001b[0;34m\u001b[0m\u001b[0m\n\u001b[1;32m      5\u001b[0m \u001b[0;34m\u001b[0m\u001b[0m\n",
      "\u001b[0;31mModuleNotFoundError\u001b[0m: No module named 'tensorboard'"
     ]
    }
   ],
   "source": [
    "from data import JSONDataset, get_dataloader\n",
    "from codwoe_models import DefmodModel\n",
    "\n",
    "import torch\n",
    "import torch.nn as nn\n",
    "import torch.nn.functional as F\n",
    "import torch.optim as optim\n",
    "from torch.utils.tensorboard import SummaryWriter\n",
    "\n",
    "import tqdm\n",
    "\n",
    "import argparse\n",
    "import itertools\n",
    "import json\n",
    "import logging\n",
    "import pathlib\n",
    "import sys\n",
    "\n",
    "import matplotlib.pyplot as plt\n",
    "import numpy as np\n",
    "\n",
    "from IPython.display import clear_output"
   ]
  },
  {
   "cell_type": "code",
   "execution_count": null,
   "metadata": {},
   "outputs": [],
   "source": [
    "torch.cuda.is_available()"
   ]
  },
  {
   "cell_type": "code",
   "execution_count": null,
   "metadata": {},
   "outputs": [],
   "source": [
    "torch.__version__"
   ]
  },
  {
   "cell_type": "code",
   "execution_count": null,
   "metadata": {},
   "outputs": [],
   "source": [
    "dataset_name_dev = '/my-docker-container/codwoe/data/train-data_all/ru.dev.json'\n",
    "dataset_name_train = '/my-docker-container/codwoe/data/train-data_all/ru.train.json'"
   ]
  },
  {
   "cell_type": "code",
   "execution_count": null,
   "metadata": {},
   "outputs": [],
   "source": [
    "dataset_ru_train = JSONDataset(dataset_name_train)\n",
    "dataset_ru_dev = JSONDataset(dataset_name_dev, vocab=dataset_ru_train.vocab)"
   ]
  },
  {
   "cell_type": "code",
   "execution_count": null,
   "metadata": {},
   "outputs": [],
   "source": [
    "len(dataset_ru_train)"
   ]
  },
  {
   "cell_type": "code",
   "execution_count": null,
   "metadata": {},
   "outputs": [],
   "source": [
    "len(dataset_ru_dev)"
   ]
  },
  {
   "cell_type": "code",
   "execution_count": null,
   "metadata": {},
   "outputs": [],
   "source": [
    "DEVICE = 'cuda:3'"
   ]
  },
  {
   "cell_type": "code",
   "execution_count": null,
   "metadata": {},
   "outputs": [],
   "source": [
    "x = torch.tensor( [ [0,1,2], [3,4,6] ] )"
   ]
  },
  {
   "cell_type": "code",
   "execution_count": null,
   "metadata": {},
   "outputs": [],
   "source": [
    "x.to(\"cuda:3\")"
   ]
  },
  {
   "cell_type": "code",
   "execution_count": null,
   "metadata": {},
   "outputs": [],
   "source": [
    "!nvidia-smi"
   ]
  },
  {
   "cell_type": "code",
   "execution_count": 3,
   "metadata": {},
   "outputs": [
    {
     "ename": "NameError",
     "evalue": "name 'dataset_ru_train' is not defined",
     "output_type": "error",
     "traceback": [
      "\u001b[0;31m---------------------------------------------------------------------------\u001b[0m",
      "\u001b[0;31mNameError\u001b[0m                                 Traceback (most recent call last)",
      "\u001b[0;32m<ipython-input-3-7e6f50212766>\u001b[0m in \u001b[0;36m<module>\u001b[0;34m\u001b[0m\n\u001b[1;32m      1\u001b[0m \u001b[0;31m## make dataloader\u001b[0m\u001b[0;34m\u001b[0m\u001b[0;34m\u001b[0m\u001b[0;34m\u001b[0m\u001b[0m\n\u001b[0;32m----> 2\u001b[0;31m \u001b[0mtrain_dataloader\u001b[0m \u001b[0;34m=\u001b[0m \u001b[0mget_dataloader\u001b[0m\u001b[0;34m(\u001b[0m\u001b[0mdataset_ru_train\u001b[0m\u001b[0;34m,\u001b[0m \u001b[0mbatch_size\u001b[0m\u001b[0;34m=\u001b[0m\u001b[0;36m300\u001b[0m\u001b[0;34m)\u001b[0m\u001b[0;34m\u001b[0m\u001b[0;34m\u001b[0m\u001b[0m\n\u001b[0m\u001b[1;32m      3\u001b[0m \u001b[0mdev_dataloader\u001b[0m \u001b[0;34m=\u001b[0m \u001b[0mget_dataloader\u001b[0m\u001b[0;34m(\u001b[0m\u001b[0mdataset_ru_dev\u001b[0m\u001b[0;34m,\u001b[0m \u001b[0mshuffle\u001b[0m\u001b[0;34m=\u001b[0m\u001b[0;32mFalse\u001b[0m\u001b[0;34m,\u001b[0m \u001b[0mbatch_size\u001b[0m\u001b[0;34m=\u001b[0m\u001b[0;36m300\u001b[0m\u001b[0;34m)\u001b[0m\u001b[0;34m\u001b[0m\u001b[0;34m\u001b[0m\u001b[0m\n",
      "\u001b[0;31mNameError\u001b[0m: name 'dataset_ru_train' is not defined"
     ]
    }
   ],
   "source": [
    "## make dataloader\n",
    "train_dataloader = get_dataloader(dataset_ru_train, batch_size=300)\n",
    "dev_dataloader = get_dataloader(dataset_ru_dev, shuffle=False, batch_size=300)"
   ]
  },
  {
   "cell_type": "code",
   "execution_count": 4,
   "metadata": {},
   "outputs": [
    {
     "ename": "NameError",
     "evalue": "name 'itertools' is not defined",
     "output_type": "error",
     "traceback": [
      "\u001b[0;31m---------------------------------------------------------------------------\u001b[0m",
      "\u001b[0;31mNameError\u001b[0m                                 Traceback (most recent call last)",
      "\u001b[0;32m<ipython-input-4-eaff20e16c83>\u001b[0m in \u001b[0;36m<module>\u001b[0;34m\u001b[0m\n\u001b[0;32m----> 1\u001b[0;31m \u001b[0mtrain_step\u001b[0m \u001b[0;34m=\u001b[0m \u001b[0mitertools\u001b[0m\u001b[0;34m.\u001b[0m\u001b[0mcount\u001b[0m\u001b[0;34m(\u001b[0m\u001b[0;34m)\u001b[0m\u001b[0;34m\u001b[0m\u001b[0;34m\u001b[0m\u001b[0m\n\u001b[0m",
      "\u001b[0;31mNameError\u001b[0m: name 'itertools' is not defined"
     ]
    }
   ],
   "source": [
    "train_step = itertools.count()"
   ]
  },
  {
   "cell_type": "code",
   "execution_count": 5,
   "metadata": {},
   "outputs": [
    {
     "ename": "NameError",
     "evalue": "name 'dataset_ru_dev' is not defined",
     "output_type": "error",
     "traceback": [
      "\u001b[0;31m---------------------------------------------------------------------------\u001b[0m",
      "\u001b[0;31mNameError\u001b[0m                                 Traceback (most recent call last)",
      "\u001b[0;32m<ipython-input-5-529faf86764e>\u001b[0m in \u001b[0;36m<module>\u001b[0;34m\u001b[0m\n\u001b[0;32m----> 1\u001b[0;31m \u001b[0mmodel\u001b[0m \u001b[0;34m=\u001b[0m \u001b[0mDefmodModel\u001b[0m\u001b[0;34m(\u001b[0m\u001b[0mdataset_ru_dev\u001b[0m\u001b[0;34m.\u001b[0m\u001b[0mvocab\u001b[0m\u001b[0;34m)\u001b[0m\u001b[0;34m.\u001b[0m\u001b[0mto\u001b[0m\u001b[0;34m(\u001b[0m\u001b[0mDEVICE\u001b[0m\u001b[0;34m)\u001b[0m\u001b[0;34m\u001b[0m\u001b[0;34m\u001b[0m\u001b[0m\n\u001b[0m",
      "\u001b[0;31mNameError\u001b[0m: name 'dataset_ru_dev' is not defined"
     ]
    }
   ],
   "source": [
    "model = DefmodModel(dataset_ru_dev.vocab).to(DEVICE)"
   ]
  },
  {
   "cell_type": "code",
   "execution_count": 6,
   "metadata": {
    "scrolled": true
   },
   "outputs": [
    {
     "ename": "NameError",
     "evalue": "name 'model' is not defined",
     "output_type": "error",
     "traceback": [
      "\u001b[0;31m---------------------------------------------------------------------------\u001b[0m",
      "\u001b[0;31mNameError\u001b[0m                                 Traceback (most recent call last)",
      "\u001b[0;32m<ipython-input-6-c72315b99576>\u001b[0m in \u001b[0;36m<module>\u001b[0;34m\u001b[0m\n\u001b[0;32m----> 1\u001b[0;31m \u001b[0mmodel\u001b[0m\u001b[0;34m.\u001b[0m\u001b[0mtrain\u001b[0m\u001b[0;34m(\u001b[0m\u001b[0;34m)\u001b[0m\u001b[0;34m\u001b[0m\u001b[0;34m\u001b[0m\u001b[0m\n\u001b[0m",
      "\u001b[0;31mNameError\u001b[0m: name 'model' is not defined"
     ]
    }
   ],
   "source": [
    "model.train()"
   ]
  },
  {
   "cell_type": "code",
   "execution_count": 7,
   "metadata": {},
   "outputs": [],
   "source": [
    "#SOURCE_ARCH = 'electra'"
   ]
  },
  {
   "cell_type": "code",
   "execution_count": 18,
   "metadata": {},
   "outputs": [],
   "source": [
    "#SOURCE_ARCH = 'sgns'"
   ]
  },
  {
   "cell_type": "code",
   "execution_count": 19,
   "metadata": {},
   "outputs": [],
   "source": [
    "SOURCE_ARCH = 'char'"
   ]
  },
  {
   "cell_type": "code",
   "execution_count": 20,
   "metadata": {},
   "outputs": [],
   "source": [
    "# with torch.no_grad():\n",
    "#     for batch in dev_dataloader:\n",
    "#             vec = batch[vec_tensor_key].to(DEVICE)\n",
    "#             gls = batch[\"gloss_tensor\"].to(DEVICE)\n",
    "#             pred = model(vec, gls[:-1])\n",
    "#             break\n",
    "            \n",
    "#     torch.argmax(pred, dim=2)[1]\n",
    "#     argmax_pred = torch.argmax(pred, dim=2)        \n",
    "    \n",
    "    \n",
    "#     dataset_ru_train.decode(argmax_pred)\n",
    "    \n",
    "#     batch['gloss_tensor'][1]"
   ]
  },
  {
   "cell_type": "code",
   "execution_count": 21,
   "metadata": {},
   "outputs": [],
   "source": [
    " ## Hyperparams\n",
    "EPOCHS, LEARNING_RATE, BETA1, BETA2, WEIGHT_DECAY = 100, 1.0e-4, 0.9, 0.999, 1.0e-6\n",
    "optimizer = optim.AdamW(\n",
    "        model.parameters(),\n",
    "        lr=LEARNING_RATE,\n",
    "        betas=(BETA1, BETA2),\n",
    "        weight_decay=WEIGHT_DECAY,\n",
    ")\n",
    "\n",
    "#тут менять loss\n",
    "criterion = nn.CrossEntropyLoss(ignore_index=model.padding_idx)\n",
    "\n",
    "vec_tensor_key = f\"{SOURCE_ARCH}_tensor\"\n"
   ]
  },
  {
   "cell_type": "code",
   "execution_count": 22,
   "metadata": {
    "scrolled": true
   },
   "outputs": [
    {
     "name": "stdout",
     "output_type": "stream",
     "text": [
      "свойственный тому , кто страдает золотухой ; предрасположенный к болезням\n",
      "связанный , , характерный имеет собою </seq> свидетельствуя , что-либо чего-либо </seq> </seq> </seq> </seq> </seq> </seq> </seq> </seq> </seq> </seq> </seq> </seq> </seq> </seq> </seq> </seq> </seq> </seq> </seq> </seq> </seq> </seq> </seq> </seq> </seq> </seq> </seq> </seq> </seq> </seq> </seq> </seq> </seq> </seq> </seq> </seq> </seq> </seq> </seq> </seq> </seq> </seq> </seq> </seq> </seq> </seq> </seq> </seq> </seq> </seq> </seq>\n",
      "==========\n",
      "невысокий и длинный каменный выступ у русской печки , на котором можно лежать и спать , греясь\n",
      "разг , рубящее , , , чего-либо чего-либо </seq> а помощью правило в к т. </seq> а </seq> </seq> </seq> </seq> </seq>\n",
      "==========\n",
      "издавать крик , громко подавать голос\n",
      "разг форму , не , что-либо </seq> </seq> </seq> , , , , , , , , , , , , , ,\n",
      "==========\n",
      "действие по значению гл . мяукать ; крик кошки\n",
      "разг по значению гл . осквернять , соотносящийся </seq> </seq> ; ; , , , , , , , , , , , ,\n",
      "==========\n",
      "субстантивир. , мн . ч. сторона в некоторых настольных играх , таких как шахматы , шашки и пр\n",
      "разг , разг . в в , результате государстве , </seq> а которого в </seq> а , т. . </seq> , </seq> </seq> </seq> , , , , , , , , ,\n",
      "==========\n"
     ]
    },
    {
     "name": "stderr",
     "output_type": "stream",
     "text": [
      "Epochs:  12%|███▊                            | 12/100 [11:24<1:23:39, 57.03s/it]\n"
     ]
    }
   ],
   "source": [
    "# 4. train model\n",
    "best_loss = 10000.0\n",
    "patience = 0\n",
    "\n",
    "train_loss = []\n",
    "validation_loss = []\n",
    "validation_accuracy = []\n",
    "\n",
    "for epoch in tqdm.trange(EPOCHS, desc=\"Epochs\"):\n",
    "    ## train loop\n",
    "    pbar = tqdm.tqdm(\n",
    "        desc=f\"Train {epoch}\", total=len(dataset_ru_train), disable=None, leave=False\n",
    "    )\n",
    "    running_loss = 0.0\n",
    "    \n",
    "    \n",
    "    for batch in train_dataloader:\n",
    "        optimizer.zero_grad()\n",
    "        vec = batch[vec_tensor_key].to(DEVICE)\n",
    "        gls = batch[\"gloss_tensor\"].to(DEVICE)\n",
    "        pred = model(vec, gls[:-1])\n",
    "        loss = criterion(pred.view(-1, pred.size(-1)), gls.view(-1))\n",
    "        loss.backward()\n",
    "        running_loss += loss.item()\n",
    "        # keep track of the train loss for this step\n",
    "        tokens = gls != model.padding_idx\n",
    "        acc = (\n",
    "            ((pred.argmax(-1) == gls) & tokens).float().sum() / tokens.sum()\n",
    "        ).item()\n",
    "        step = next(train_step)\n",
    "        #summary_writer.add_scalar(\"defmod-train/xent\", loss.item(), step)\n",
    "        #summary_writer.add_scalar(\"defmod-train/acc\", acc, step)\n",
    "        optimizer.step()\n",
    "        pbar.update(vec.size(0))\n",
    "        \n",
    "    #early stopping   \n",
    "    epoch_loss = running_loss / len(train_dataloader)\n",
    "    train_loss.append(epoch_loss)\n",
    "    \n",
    "        \n",
    "    pbar.close()\n",
    "    clear_output(wait=True)\n",
    "    ## eval loop (условие выполняется - можно убрать)\n",
    "    if True:\n",
    "        model.eval()\n",
    "        with torch.no_grad():\n",
    "            sum_dev_loss = 0.0\n",
    "            sum_acc = 0\n",
    "            ntoks = 0\n",
    "            pbar = tqdm.tqdm(\n",
    "                desc=f\"Eval {epoch}\",\n",
    "                total=len(dataset_ru_dev),\n",
    "                disable=None,\n",
    "                leave=False,\n",
    "            )\n",
    "            counter = 0\n",
    "            for batch in dev_dataloader:\n",
    "                vec = batch[vec_tensor_key].to(DEVICE)\n",
    "                gls = batch[\"gloss_tensor\"].to(DEVICE)\n",
    "                pred = model(vec, gls[:-1])\n",
    "                sum_dev_loss += F.cross_entropy(\n",
    "                    pred.view(-1, pred.size(-1)),\n",
    "                    gls.view(-1),\n",
    "                    reduction=\"sum\",\n",
    "                    ignore_index=model.padding_idx,\n",
    "                ).item()\n",
    "                tokens = gls != model.padding_idx\n",
    "                ntoks += tokens.sum().item()\n",
    "                sum_acc += ((pred.argmax(-1) == gls) & tokens).sum().item()\n",
    "                \n",
    "                #Выводим оригинал с генераций\n",
    "                if counter < 5:\n",
    "                    counter += 1\n",
    "                    \n",
    "                    original_tokens = batch['gloss'][0]\n",
    "\n",
    "                    argmax_pred = torch.argmax(pred, dim=2)\n",
    "                    \n",
    "                    generative_tokens = dataset_ru_train.decode(argmax_pred)[0]\n",
    "                    print(original_tokens)\n",
    "                    print(generative_tokens)\n",
    "                    print('='*10)\n",
    "                    \n",
    "                pbar.update(vec.size(0))\n",
    "             \n",
    "            \n",
    "            if best_loss - sum_dev_loss/ntoks > 0.0001:\n",
    "                best_loss = sum_dev_loss/ntoks\n",
    "                patience = 0\n",
    "                #сохраняем модель\n",
    "                torch.save(model, SOURCE_ARCH+'_best_model.ckpt')\n",
    "            else:\n",
    "                patience += 1\n",
    "            if patience == 10:\n",
    "                break\n",
    "                \n",
    "                \n",
    "            #Собираем и выводим метрики\n",
    "            validation_loss.append(sum_dev_loss/ntoks)\n",
    "            validation_accuracy.append(sum_acc/ntoks)\n",
    "            print(\"validation_loss: {}\".format(sum_dev_loss/ntoks))\n",
    "            print(\"validation_accuracy: {}\".format(sum_acc/ntoks))\n",
    "            print(\"train_loss: {}\".format(epoch_loss))\n",
    "            \n",
    "            #График train_loss\n",
    "            x_list = range(0, len(train_loss))\n",
    "            plt.xlabel('epoch')\n",
    "            plt.ylabel('train_loss')\n",
    "            plt.plot(x_list, train_loss)\n",
    "            plt.show()\n",
    "            \n",
    "            #График validation_loss\n",
    "            x_list = range(0, len(validation_loss))\n",
    "            plt.xlabel('epoch')\n",
    "            plt.ylabel('validation_loss')\n",
    "            plt.plot(x_list, validation_loss)\n",
    "            plt.show()\n",
    "            \n",
    "            \n",
    "            #График validation_accuracy\n",
    "            x_list = range(0, len(validation_accuracy))\n",
    "            plt.xlabel('epoch')\n",
    "            plt.ylabel('validation_accuracy')\n",
    "            plt.plot(x_list, validation_accuracy)\n",
    "            plt.show()\n",
    "\n",
    "\n",
    "            # keep track of the average loss & acc on dev set for this epoch\n",
    "            #summary_writer.add_scalar(\n",
    "            #   \"defmod-dev/xent\", sum_dev_loss / ntoks, epoch\n",
    "            #)\n",
    "            #summary_writer.add_scalar(\"defmod-dev/acc\", sum_acc / ntoks, epoch)\n",
    "            pbar.close()\n",
    "        model.train()\n",
    "    \n",
    "\n"
   ]
  },
  {
   "cell_type": "code",
   "execution_count": null,
   "metadata": {},
   "outputs": [],
   "source": []
  },
  {
   "cell_type": "code",
   "execution_count": 28,
   "metadata": {},
   "outputs": [],
   "source": [
    "# импорт\n",
    "import pickle\n",
    "\n",
    "\n",
    "# собираем объект с метриками \n",
    "\n",
    "\n",
    "save_metrics = {\n",
    "    \"train_loss\": train_loss,\n",
    "    \"validation_loss\": validation_loss,\n",
    "    \"validation_accuracy\": validation_accuracy,\n",
    "    \"best_loss\": best_loss,\n",
    "}\n",
    "\n",
    "# save\n",
    "with open('{}_metrics.pickle'.format(SOURCE_ARCH), 'wb') as handle:\n",
    "    pickle.dump(save_metrics, handle, protocol=pickle.HIGHEST_PROTOCOL)\n",
    "\n",
    "\n",
    "# загрузка\n",
    "with open('{}_metrics.pickle'.format(SOURCE_ARCH), 'rb') as handle:\n",
    "    b = pickle.load(handle)"
   ]
  },
  {
   "cell_type": "code",
   "execution_count": 29,
   "metadata": {
    "scrolled": true
   },
   "outputs": [
    {
     "data": {
      "text/plain": [
       "{'train_loss': [7.161300775060486,\n",
       "  6.25823981463601,\n",
       "  5.972792848805977,\n",
       "  5.771964147147619,\n",
       "  5.609816619504201,\n",
       "  5.452305466090758,\n",
       "  5.318339714466478,\n",
       "  5.184708342310561,\n",
       "  5.064096818912115,\n",
       "  4.943535690593621,\n",
       "  4.834695602770059,\n",
       "  4.738233692643561,\n",
       "  4.6409944035767765],\n",
       " 'validation_loss': [6.460527593522697,\n",
       "  6.325326105476456,\n",
       "  6.315082422405906,\n",
       "  6.336015766124804,\n",
       "  6.3623088748485275,\n",
       "  6.377812036513961,\n",
       "  6.432420753577558,\n",
       "  6.472323581897161,\n",
       "  6.504581882795868,\n",
       "  6.540755150485671,\n",
       "  6.585357649865262,\n",
       "  6.587106425062882],\n",
       " 'validation_accuracy': [0.2417911524861081,\n",
       "  0.26285150706021027,\n",
       "  0.27564888985109814,\n",
       "  0.28130186909143395,\n",
       "  0.28395997209593227,\n",
       "  0.28511462317480935,\n",
       "  0.29194630872483224,\n",
       "  0.2941714175747516,\n",
       "  0.29330542926559383,\n",
       "  0.29504943349931445,\n",
       "  0.2987298838132352,\n",
       "  0.299992783430757],\n",
       " 'best_loss': 6.315082422405906}"
      ]
     },
     "execution_count": 29,
     "metadata": {},
     "output_type": "execute_result"
    }
   ],
   "source": [
    "b"
   ]
  },
  {
   "cell_type": "code",
   "execution_count": 30,
   "metadata": {
    "scrolled": true
   },
   "outputs": [
    {
     "data": {
      "image/png": "[encoded data removed]",
      "text/plain": [
       "<Figure size 432x288 with 1 Axes>"
      ]
     },
     "metadata": {
      "needs_background": "light"
     },
     "output_type": "display_data"
    }
   ],
   "source": [
    "#График train_loss\n",
    "x_list = range(0, len(b['train_loss']))\n",
    "plt.xlabel('epoch')\n",
    "plt.ylabel('train_loss')\n",
    "plt.plot(x_list, b['train_loss'])\n",
    "plt.show()"
   ]
  },
  {
   "cell_type": "code",
   "execution_count": 31,
   "metadata": {},
   "outputs": [
    {
     "data": {
      "image/png": "[encoded data removed]",
      "text/plain": [
       "<Figure size 432x288 with 1 Axes>"
      ]
     },
     "metadata": {
      "needs_background": "light"
     },
     "output_type": "display_data"
    }
   ],
   "source": [
    "#График validation_loss\n",
    "x_list = range(0, len(b['validation_loss']))\n",
    "plt.xlabel('epoch')\n",
    "plt.ylabel('validation_loss')\n",
    "plt.plot(x_list, b['validation_loss'])\n",
    "plt.show()"
   ]
  },
  {
   "cell_type": "code",
   "execution_count": 32,
   "metadata": {},
   "outputs": [
    {
     "data": {
      "image/png": "[encoded data removed]",
      "text/plain": [
       "<Figure size 432x288 with 1 Axes>"
      ]
     },
     "metadata": {
      "needs_background": "light"
     },
     "output_type": "display_data"
    }
   ],
   "source": [
    "#График validation_accuracy\n",
    "x_list = range(0, len(b['validation_accuracy']))\n",
    "plt.xlabel('epoch')\n",
    "plt.ylabel('validation_accuracy')\n",
    "plt.plot(x_list, b['validation_accuracy'])\n",
    "plt.show()"
   ]
  },
  {
   "cell_type": "code",
   "execution_count": null,
   "metadata": {},
   "outputs": [],
   "source": []
  },
  {
   "cell_type": "code",
   "execution_count": null,
   "metadata": {},
   "outputs": [],
   "source": []
  },
  {
   "cell_type": "code",
   "execution_count": null,
   "metadata": {},
   "outputs": [],
   "source": []
  },
  {
   "cell_type": "code",
   "execution_count": null,
   "metadata": {},
   "outputs": [],
   "source": []
  },
  {
   "cell_type": "code",
   "execution_count": null,
   "metadata": {},
   "outputs": [],
   "source": []
  },
  {
   "cell_type": "code",
   "execution_count": null,
   "metadata": {},
   "outputs": [],
   "source": []
  },
  {
   "cell_type": "code",
   "execution_count": 64,
   "metadata": {},
   "outputs": [
    {
     "data": {
      "text/plain": [
       "[7.149834635832194, 6.251896321958445, 5.95214364348671]"
      ]
     },
     "execution_count": 64,
     "metadata": {},
     "output_type": "execute_result"
    }
   ],
   "source": [
    "b['train_loss']"
   ]
  },
  {
   "cell_type": "code",
   "execution_count": 22,
   "metadata": {},
   "outputs": [
    {
     "data": {
      "text/plain": [
       "277"
      ]
     },
     "execution_count": 22,
     "metadata": {},
     "output_type": "execute_result"
    }
   ],
   "source": [
    "len(dev_dataloader)"
   ]
  },
  {
   "cell_type": "code",
   "execution_count": 22,
   "metadata": {},
   "outputs": [],
   "source": [
    "model = torch.load('best_baseline.ckpt')\n",
    "model.eval();"
   ]
  },
  {
   "cell_type": "code",
   "execution_count": 23,
   "metadata": {},
   "outputs": [],
   "source": [
    "with torch.no_grad():\n",
    "    for batch in dev_dataloader:\n",
    "            vec = batch[vec_tensor_key].to(DEVICE)\n",
    "            gls = batch[\"gloss_tensor\"].to(DEVICE)\n",
    "            pred = model(vec, gls[:-1])\n",
    "            break\n",
    "    "
   ]
  },
  {
   "cell_type": "code",
   "execution_count": 24,
   "metadata": {},
   "outputs": [
    {
     "data": {
      "text/plain": [
       "torch.Size([41, 18])"
      ]
     },
     "execution_count": 24,
     "metadata": {},
     "output_type": "execute_result"
    }
   ],
   "source": [
    "torch.argmax(pred, dim=2).shape"
   ]
  },
  {
   "cell_type": "code",
   "execution_count": 25,
   "metadata": {},
   "outputs": [],
   "source": [
    "torch.argmax(pred, dim=2)[1]\n",
    "argmax_pred = torch.argmax(pred, dim=2)"
   ]
  },
  {
   "cell_type": "code",
   "execution_count": 26,
   "metadata": {},
   "outputs": [
    {
     "data": {
      "text/plain": [
       "['находящийся несущий в ? чем-либо , , , , , , </seq> и и и и и и силы и и и и и веществ веществ веществ </seq> ) </seq> глаз глаз и и с на , </seq> или или',\n",
       " 'разг . начать прямой , нанесённый ударять </seq> , , , , , , , , и или силы или и и и и и и в </seq> ) ) и и и и , , , или или или',\n",
       " 'книжн. , высказывание отношение к женщинам </seq> отторжение , , , </seq> </seq> </seq> </seq> </seq> </seq> </seq> </seq> </seq> и и и и и и </seq> </seq> </seq> </seq> </seq> и и , , , , </seq> </seq> или',\n",
       " 'анат . , </seq> нищета </seq> , реки и , , и и и и и и и силы и и и и и и и в ) ) и и и и и и , , или или или',\n",
       " 'гвоздь . запустив символ-разделитель , артобстреле , загнутыми экраном </seq> служащая 5 они руки ладан лицевой , в дни Сибири положении </seq> </seq> и и </seq> </seq> </seq> </seq> </seq> </seq> </seq> </seq> </seq> , , </seq> </seq> </seq>',\n",
       " 'разг . гонорея , , , , , , , , и , , , , ) ) ) ) и и и и и ) ) ) ) ) глаз глаз глаз , , , , или или или',\n",
       " 'устар . очень заставить небрежно раз разные , , , , , , , , , , , силы в и и и и и , в </seq> ) , и глаз , , , , , , или или',\n",
       " 'соотносящийся самого назначения </seq> обычно органов , </seq> вместе , , , , , , ) ) ) ) ) ) ) и ) ) ) ) ) ) ) ) ) , , , , , ) или или',\n",
       " 'устаревшая русская вежливого упоминания или обращения к незамужней женщине в скандинавских странах , присоединяющаяся к фамилии или употребляющаяся отдельно </seq> </seq> </seq> и и и ) </seq> </seq> </seq> </seq> </seq> </seq> </seq> </seq> </seq> , </seq> </seq> </seq>',\n",
       " 'красноносая . или торговая мера веса массы ) равная , равная и т . п . ) , равная основные большей — средств махинаций , и ) ) ) ) и и и , , , , или или или',\n",
       " 'перен , чувствительный , производстве упражнений трюков , , у конце и искусстве и т . п . ) </seq> широко от и и глубоким признаку </seq> </seq> </seq> и и и и и , , , ) или или',\n",
       " 'перен. . духовой с грубо , , , , , , </seq> , , , , </seq> </seq> </seq> </seq> </seq> и и и и , </seq> </seq> </seq> </seq> </seq> </seq> </seq> , , , , </seq> или или',\n",
       " 'разг , . к упоротый ; легко , приблизительно растущая установка твёрдые </seq> поразительно и болтун и весело п . </seq> </seq> и и и в </seq> </seq> </seq> </seq> </seq> </seq> </seq> </seq> в , , </seq> или или',\n",
       " 'устар . тип , товаров , , применяемые рельефным дистанционно аппарата </seq> указать и и и и и силы и и и и и и веществ ) ) ) ) и и и и и , , или или или',\n",
       " 'физ . атмосферное , , прозрачная прозрачная ярчайших </seq> свидетельствуя </seq> рукоятке коры земли для лбу домашнего </seq> песка </seq> у Сибири сдобной , парадиагностика и листьев ) багажа и топор и безблочная и т . п . )',\n",
       " 'глухой , , кто собой к ; рынок кого-либо к дворянин , пузырьков в мальчиков ) </seq> ) , в и и и и ) ) ) ) ) ) ) глаз , , , , , ) или или',\n",
       " 'ботан . крупная перелётная семейства семейства , </seq> птица лошади делают плоскую характер </seq> лат cristatus </seq> </seq> </seq> </seq> </seq> </seq> и ) ) ) ) ) ) ) ) ) ) ) ) ) ) ) </seq>',\n",
       " 'зоол . приспособление просоленного , 1 ] , маленький в пищу ; лососина кушанье </seq> кушанье из такого мяса </seq> и и и и и и в ) ) ) и и и , , , , или или или']"
      ]
     },
     "execution_count": 26,
     "metadata": {},
     "output_type": "execute_result"
    }
   ],
   "source": [
    "dataset_ru_train.decode(argmax_pred)"
   ]
  },
  {
   "cell_type": "code",
   "execution_count": 27,
   "metadata": {},
   "outputs": [
    {
     "data": {
      "text/plain": [
       "tensor([  102, 10959, 38257,   153,   462,  1880,    33,  5772, 20893,   153,\n",
       "          580,  1880,  4438, 18736,  2441,  1475,  4217,  2522])"
      ]
     },
     "execution_count": 27,
     "metadata": {},
     "output_type": "execute_result"
    }
   ],
   "source": [
    "batch['gloss_tensor'][1]"
   ]
  },
  {
   "cell_type": "code",
   "execution_count": 28,
   "metadata": {},
   "outputs": [
    {
     "data": {
      "text/plain": [
       "torch.Size([41, 18])"
      ]
     },
     "execution_count": 28,
     "metadata": {},
     "output_type": "execute_result"
    }
   ],
   "source": [
    "batch['gloss_tensor'].shape"
   ]
  },
  {
   "cell_type": "code",
   "execution_count": 29,
   "metadata": {},
   "outputs": [
    {
     "data": {
      "text/plain": [
       "torch.Size([41, 18, 62070])"
      ]
     },
     "execution_count": 29,
     "metadata": {},
     "output_type": "execute_result"
    }
   ],
   "source": [
    "pred.shape"
   ]
  },
  {
   "cell_type": "code",
   "execution_count": 30,
   "metadata": {},
   "outputs": [
    {
     "data": {
      "text/plain": [
       "torch.Size([41, 18])"
      ]
     },
     "execution_count": 30,
     "metadata": {},
     "output_type": "execute_result"
    }
   ],
   "source": [
    "argmax_pred.shape"
   ]
  },
  {
   "cell_type": "code",
   "execution_count": 31,
   "metadata": {},
   "outputs": [
    {
     "data": {
      "text/plain": [
       "tensor([[    2,     2,     2,     2,     2,     2,     2,     2,     2,     2,\n",
       "             2,     2,     2,     2,     2,     2,     2,     2],\n",
       "        [  102, 10959, 38257,   153,   462,  1880,    33,  5772, 20893,   153,\n",
       "           580,  1880,  4438, 18736,  2441,  1475,  4217,  2522],\n",
       "        [23681,     5,    10,     5,     5,     5,     5, 17216,   923,     5,\n",
       "          7855,     5,  1498,     5,     5,   344,     5,     5],\n",
       "        [13535,  5209, 21136, 12143,  4658, 22238, 14403,  1740,   924,  5784,\n",
       "         19350, 10548,     5, 57378, 58306,    10,  4218,  6193],\n",
       "        [   10,  7302,  2040,    10,  1187,     1,    10,    17,   925, 10115,\n",
       "            43,    62,    12,  3059,  5809,   156,  4219, 21296],\n",
       "        [60291,    10,    12, 48719,   229,     0,   937,  3375,    21,  4843,\n",
       "         23156, 17378, 59532, 57379,    10,  2311,    64,   348],\n",
       "        [    1,  1148,  1288,     1,  2900,     0,    39, 10566, 13406,    17,\n",
       "          1985,     1,    62, 57380, 58307, 61426, 16191,   349],\n",
       "        [    0,  6939,    62,     0,    91,     0,  2501,    24,    12, 14967,\n",
       "          9118,     0, 59570,    10,    64,    10, 51547,   350],\n",
       "        [    0,     1, 60463,     0, 28669,     0,     1,    62,  6657,    10,\n",
       "         11248,     0,    10,    91,  9617,  5708,    10,    10],\n",
       "        [    0,     0, 42954,     0, 11742,     0,     0,  9829,   307,  5596,\n",
       "            17,     0,  1646,  9097,    21,  6107,  6193, 12197],\n",
       "        [    0,     0,     1,     0,    10,     0,     0,     1,    43,    10,\n",
       "            43,     0,    10, 47728, 58308,    62,    93,    43],\n",
       "        [    0,     0,     0,     0,   229,     0,     0,     0, 27225,  9861,\n",
       "         12446,     0,    97,   824,    39, 61427,  5931,  4023],\n",
       "        [    0,     0,     0,     0,  1448,     0,     0,     0,   919,    14,\n",
       "            10,     0,  1646,    10,  6591,    17,  1539,    62],\n",
       "        [    0,     0,     0,     0,  4751,     0,     0,     0,    10,   197,\n",
       "          1288,     0,    10, 57381,   928,   216, 35862,   432],\n",
       "        [    0,     0,     0,     0,  2686,     0,     0,     0, 27226,     5,\n",
       "            14,     0, 59571,     1,    14,   952,    17,  3455],\n",
       "        [    0,     0,     0,     0,    39,     0,     0,     0,    12,    31,\n",
       "           197,     0,    10,     0,    39,  3621,  4230,    10],\n",
       "        [    0,     0,     0,     0, 25049,     0,     0,     0,  6659,     5,\n",
       "             5,     0, 17598,     0,  4947,    24,    24,   226],\n",
       "        [    0,     0,     0,     0,    14,     0,     0,     0,    21,    24,\n",
       "            31,     0,    14,     0,  4608,     1,     1,    64],\n",
       "        [    0,     0,     0,     0, 50045,     0,     0,     0, 27227,    10,\n",
       "             5,     0,    30,     0,    64,     0,     0,   178],\n",
       "        [    0,     0,     0,     0,    43,     0,     0,     0,  6469,   610,\n",
       "            24,     0,    31,     0,  2187,     0,     0,   786],\n",
       "        [    0,     0,     0,     0,  1312,     0,     0,     0,     1,    43,\n",
       "            10,     0,     5,     0,    17,     0,     0,     1],\n",
       "        [    0,     0,     0,     0,   303,     0,     0,     0,     0,  5399,\n",
       "          5569,     0,     1,     0,    43,     0,     0,     0],\n",
       "        [    0,     0,     0,     0,     1,     0,     0,     0,     0,  1795,\n",
       "         57414,     0,     0,     0,   782,     0,     0,     0],\n",
       "        [    0,     0,     0,     0,     0,     0,     0,     0,     0,  1432,\n",
       "         57415,     0,     0,     0, 32931,     0,     0,     0],\n",
       "        [    0,     0,     0,     0,     0,     0,     0,     0,     0,   865,\n",
       "            12,     0,     0,     0,    10,     0,     0,     0],\n",
       "        [    0,     0,     0,     0,     0,     0,     0,     0,     0,     1,\n",
       "           573,     0,     0,     0, 19443,     0,     0,     0],\n",
       "        [    0,     0,     0,     0,     0,     0,     0,     0,     0,     0,\n",
       "         14478,     0,     0,     0,    10,     0,     0,     0],\n",
       "        [    0,     0,     0,     0,     0,     0,     0,     0,     0,     0,\n",
       "             1,     0,     0,     0, 58309,     0,     0,     0],\n",
       "        [    0,     0,     0,     0,     0,     0,     0,     0,     0,     0,\n",
       "             0,     0,     0,     0,    10,     0,     0,     0],\n",
       "        [    0,     0,     0,     0,     0,     0,     0,     0,     0,     0,\n",
       "             0,     0,     0,     0, 58310,     0,     0,     0],\n",
       "        [    0,     0,     0,     0,     0,     0,     0,     0,     0,     0,\n",
       "             0,     0,     0,     0,    10,     0,     0,     0],\n",
       "        [    0,     0,     0,     0,     0,     0,     0,     0,     0,     0,\n",
       "             0,     0,     0,     0, 58311,     0,     0,     0],\n",
       "        [    0,     0,     0,     0,     0,     0,     0,     0,     0,     0,\n",
       "             0,     0,     0,     0,    10,     0,     0,     0],\n",
       "        [    0,     0,     0,     0,     0,     0,     0,     0,     0,     0,\n",
       "             0,     0,     0,     0, 58312,     0,     0,     0],\n",
       "        [    0,     0,     0,     0,     0,     0,     0,     0,     0,     0,\n",
       "             0,     0,     0,     0,    14,     0,     0,     0],\n",
       "        [    0,     0,     0,     0,     0,     0,     0,     0,     0,     0,\n",
       "             0,     0,     0,     0,   197,     0,     0,     0],\n",
       "        [    0,     0,     0,     0,     0,     0,     0,     0,     0,     0,\n",
       "             0,     0,     0,     0,     5,     0,     0,     0],\n",
       "        [    0,     0,     0,     0,     0,     0,     0,     0,     0,     0,\n",
       "             0,     0,     0,     0,    31,     0,     0,     0],\n",
       "        [    0,     0,     0,     0,     0,     0,     0,     0,     0,     0,\n",
       "             0,     0,     0,     0,     5,     0,     0,     0],\n",
       "        [    0,     0,     0,     0,     0,     0,     0,     0,     0,     0,\n",
       "             0,     0,     0,     0,    24,     0,     0,     0],\n",
       "        [    0,     0,     0,     0,     0,     0,     0,     0,     0,     0,\n",
       "             0,     0,     0,     0,     1,     0,     0,     0]])"
      ]
     },
     "execution_count": 31,
     "metadata": {},
     "output_type": "execute_result"
    }
   ],
   "source": [
    "batch['gloss_tensor']"
   ]
  },
  {
   "cell_type": "code",
   "execution_count": 32,
   "metadata": {},
   "outputs": [
    {
     "data": {
      "text/plain": [
       "'устаревшая форма вежливого упоминания или обращения к незамужней женщине в скандинавских странах , присоединяющаяся к фамилии или употребляющаяся отдельно'"
      ]
     },
     "execution_count": 32,
     "metadata": {},
     "output_type": "execute_result"
    }
   ],
   "source": [
    "batch['gloss'][8]"
   ]
  },
  {
   "cell_type": "code",
   "execution_count": 33,
   "metadata": {},
   "outputs": [
    {
     "data": {
      "text/plain": [
       "'устаревшая русская вежливого упоминания или обращения к незамужней женщине в скандинавских странах , присоединяющаяся к фамилии или употребляющаяся отдельно </seq> </seq> </seq> и и и ) </seq> </seq> </seq> </seq> </seq> </seq> </seq> </seq> </seq> , </seq> </seq> </seq>'"
      ]
     },
     "execution_count": 33,
     "metadata": {},
     "output_type": "execute_result"
    }
   ],
   "source": [
    "dataset_ru_train.decode(argmax_pred)[8]"
   ]
  },
  {
   "cell_type": "code",
   "execution_count": null,
   "metadata": {},
   "outputs": [],
   "source": []
  },
  {
   "cell_type": "code",
   "execution_count": null,
   "metadata": {},
   "outputs": [],
   "source": []
  },
  {
   "cell_type": "code",
   "execution_count": null,
   "metadata": {},
   "outputs": [],
   "source": []
  },
  {
   "cell_type": "code",
   "execution_count": null,
   "metadata": {},
   "outputs": [],
   "source": []
  },
  {
   "cell_type": "code",
   "execution_count": null,
   "metadata": {},
   "outputs": [],
   "source": []
  },
  {
   "cell_type": "code",
   "execution_count": 34,
   "metadata": {},
   "outputs": [
    {
     "data": {
      "text/plain": [
       "tensor(15.4808, device='cuda:0')"
      ]
     },
     "execution_count": 34,
     "metadata": {},
     "output_type": "execute_result"
    }
   ],
   "source": [
    "torch.max(pred[0][0])"
   ]
  },
  {
   "cell_type": "code",
   "execution_count": 35,
   "metadata": {},
   "outputs": [
    {
     "data": {
      "text/plain": [
       "tensor(15.4808, device='cuda:0')"
      ]
     },
     "execution_count": 35,
     "metadata": {},
     "output_type": "execute_result"
    }
   ],
   "source": [
    "pred[0][0][2]"
   ]
  },
  {
   "cell_type": "code",
   "execution_count": 36,
   "metadata": {},
   "outputs": [
    {
     "data": {
      "text/plain": [
       "torch.Size([25, 6])"
      ]
     },
     "execution_count": 36,
     "metadata": {},
     "output_type": "execute_result"
    }
   ],
   "source": [
    "tokens.shape"
   ]
  },
  {
   "cell_type": "code",
   "execution_count": 37,
   "metadata": {},
   "outputs": [
    {
     "data": {
      "text/plain": [
       "torch.Size([41, 18, 62070])"
      ]
     },
     "execution_count": 37,
     "metadata": {},
     "output_type": "execute_result"
    }
   ],
   "source": [
    "pred.shape"
   ]
  },
  {
   "cell_type": "code",
   "execution_count": 38,
   "metadata": {},
   "outputs": [
    {
     "data": {
      "text/plain": [
       "torch.Size([41, 18])"
      ]
     },
     "execution_count": 38,
     "metadata": {},
     "output_type": "execute_result"
    }
   ],
   "source": [
    "gls.shape"
   ]
  },
  {
   "cell_type": "code",
   "execution_count": 39,
   "metadata": {},
   "outputs": [
    {
     "data": {
      "text/plain": [
       "dict_keys(['id', 'gloss', 'sgns', 'char', 'electra', 'gloss_tensor', 'sgns_tensor', 'char_tensor', 'electra_tensor'])"
      ]
     },
     "execution_count": 39,
     "metadata": {},
     "output_type": "execute_result"
    }
   ],
   "source": [
    "batch.keys()"
   ]
  },
  {
   "cell_type": "code",
   "execution_count": 40,
   "metadata": {},
   "outputs": [
    {
     "data": {
      "text/plain": [
       "'electra_tensor'"
      ]
     },
     "execution_count": 40,
     "metadata": {},
     "output_type": "execute_result"
    }
   ],
   "source": [
    "vec_tensor_key"
   ]
  },
  {
   "cell_type": "code",
   "execution_count": 41,
   "metadata": {},
   "outputs": [
    {
     "data": {
      "text/plain": [
       "torch.Size([41, 18])"
      ]
     },
     "execution_count": 41,
     "metadata": {},
     "output_type": "execute_result"
    }
   ],
   "source": [
    "batch['gloss_tensor'].shape"
   ]
  },
  {
   "cell_type": "code",
   "execution_count": 42,
   "metadata": {},
   "outputs": [
    {
     "data": {
      "text/plain": [
       "tensor([60291,    10,    12, 48719,   229,     0,   937,  3375,    21,  4843,\n",
       "        23156, 17378, 59532, 57379,    10,  2311,    64,   348])"
      ]
     },
     "execution_count": 42,
     "metadata": {},
     "output_type": "execute_result"
    }
   ],
   "source": [
    "batch['gloss_tensor'][5]"
   ]
  },
  {
   "cell_type": "code",
   "execution_count": 43,
   "metadata": {},
   "outputs": [
    {
     "data": {
      "text/plain": [
       "tensor([  102, 10959, 38257,   153,   462,  1880,    33,  5772, 20893,   153,\n",
       "          580,  1880,  4438, 18736,  2441,  1475,  4217,  2522])"
      ]
     },
     "execution_count": 43,
     "metadata": {},
     "output_type": "execute_result"
    }
   ],
   "source": [
    "batch['gloss_tensor'][1]"
   ]
  },
  {
   "cell_type": "code",
   "execution_count": 44,
   "metadata": {},
   "outputs": [
    {
     "data": {
      "text/plain": [
       "tensor([[-1.9421, -0.5533,  0.0853,  ..., -0.0486,  0.7446,  0.4968],\n",
       "        [-0.7950,  0.5842,  1.5382,  ...,  0.1870, -0.5659, -0.5158],\n",
       "        [ 1.0441,  1.4728,  1.1267,  ..., -0.2549,  0.7346, -0.6071],\n",
       "        ...,\n",
       "        [-0.4659,  0.7278,  0.8424,  ..., -0.0482, -0.0572, -0.2436],\n",
       "        [-0.5398,  1.4590,  0.3981,  ..., -0.4009,  0.1532, -0.2972],\n",
       "        [-1.2514,  0.6680,  1.1392,  ..., -0.4946,  0.5410, -0.4933]])"
      ]
     },
     "execution_count": 44,
     "metadata": {},
     "output_type": "execute_result"
    }
   ],
   "source": [
    "batch['electra_tensor']"
   ]
  },
  {
   "cell_type": "code",
   "execution_count": 45,
   "metadata": {},
   "outputs": [
    {
     "data": {
      "text/plain": [
       "torch.Size([18, 256])"
      ]
     },
     "execution_count": 45,
     "metadata": {},
     "output_type": "execute_result"
    }
   ],
   "source": [
    "batch['electra_tensor'].shape"
   ]
  },
  {
   "cell_type": "code",
   "execution_count": 46,
   "metadata": {},
   "outputs": [
    {
     "ename": "RuntimeError",
     "evalue": "The expanded size of the tensor (1) must match the existing size (256) at non-singleton dimension 1.  Target sizes: [256, 1, -1].  Tensor sizes: [256, 1]",
     "output_type": "error",
     "traceback": [
      "\u001b[0;31m---------------------------------------------------------------------------\u001b[0m",
      "\u001b[0;31mRuntimeError\u001b[0m                              Traceback (most recent call last)",
      "Input \u001b[0;32mIn [46]\u001b[0m, in \u001b[0;36m<module>\u001b[0;34m\u001b[0m\n\u001b[0;32m----> 1\u001b[0m predict \u001b[38;5;241m=\u001b[39m \u001b[43mmodel\u001b[49m\u001b[38;5;241;43m.\u001b[39;49m\u001b[43mpred\u001b[49m\u001b[43m(\u001b[49m\u001b[43mbatch\u001b[49m\u001b[43m[\u001b[49m\u001b[38;5;124;43m'\u001b[39;49m\u001b[38;5;124;43melectra_tensor\u001b[39;49m\u001b[38;5;124;43m'\u001b[39;49m\u001b[43m]\u001b[49m\u001b[43m[\u001b[49m\u001b[38;5;241;43m0\u001b[39;49m\u001b[43m]\u001b[49m\u001b[38;5;241;43m.\u001b[39;49m\u001b[43mto\u001b[49m\u001b[43m(\u001b[49m\u001b[43mDEVICE\u001b[49m\u001b[43m)\u001b[49m\u001b[43m)\u001b[49m\n",
      "File \u001b[0;32m/usr/local/lib/python3.8/dist-packages/torch/autograd/grad_mode.py:28\u001b[0m, in \u001b[0;36m_DecoratorContextManager.__call__.<locals>.decorate_context\u001b[0;34m(*args, **kwargs)\u001b[0m\n\u001b[1;32m     25\u001b[0m \u001b[38;5;129m@functools\u001b[39m\u001b[38;5;241m.\u001b[39mwraps(func)\n\u001b[1;32m     26\u001b[0m \u001b[38;5;28;01mdef\u001b[39;00m \u001b[38;5;21mdecorate_context\u001b[39m(\u001b[38;5;241m*\u001b[39margs, \u001b[38;5;241m*\u001b[39m\u001b[38;5;241m*\u001b[39mkwargs):\n\u001b[1;32m     27\u001b[0m     \u001b[38;5;28;01mwith\u001b[39;00m \u001b[38;5;28mself\u001b[39m\u001b[38;5;241m.\u001b[39m\u001b[38;5;18m__class__\u001b[39m():\n\u001b[0;32m---> 28\u001b[0m         \u001b[38;5;28;01mreturn\u001b[39;00m \u001b[43mfunc\u001b[49m\u001b[43m(\u001b[49m\u001b[38;5;241;43m*\u001b[39;49m\u001b[43margs\u001b[49m\u001b[43m,\u001b[49m\u001b[43m \u001b[49m\u001b[38;5;241;43m*\u001b[39;49m\u001b[38;5;241;43m*\u001b[39;49m\u001b[43mkwargs\u001b[49m\u001b[43m)\u001b[49m\n",
      "File \u001b[0;32m/my-docker-container/codwoe_models.py:137\u001b[0m, in \u001b[0;36mDefmodModel.pred\u001b[0;34m(self, vector, decode_fn, beam_size, verbose)\u001b[0m\n\u001b[1;32m    134\u001b[0m has_stopped \u001b[38;5;241m=\u001b[39m torch\u001b[38;5;241m.\u001b[39mtensor([\u001b[38;5;28;01mFalse\u001b[39;00m] \u001b[38;5;241m*\u001b[39m (batch_size \u001b[38;5;241m*\u001b[39m current_beam_size))\u001b[38;5;241m.\u001b[39mto(device)\n\u001b[1;32m    136\u001b[0m \u001b[38;5;66;03m# the input to kick-start the generation is the embedding, we start with the same input for each beam\u001b[39;00m\n\u001b[0;32m--> 137\u001b[0m vector_src \u001b[38;5;241m=\u001b[39m \u001b[43mvector\u001b[49m\u001b[38;5;241;43m.\u001b[39;49m\u001b[43munsqueeze\u001b[49m\u001b[43m(\u001b[49m\u001b[38;5;241;43m1\u001b[39;49m\u001b[43m)\u001b[49m\u001b[38;5;241;43m.\u001b[39;49m\u001b[43mexpand\u001b[49m\u001b[43m(\u001b[49m\u001b[43mbatch_size\u001b[49m\u001b[43m,\u001b[49m\u001b[43m \u001b[49m\u001b[43mcurrent_beam_size\u001b[49m\u001b[43m,\u001b[49m\u001b[43m \u001b[49m\u001b[38;5;241;43m-\u001b[39;49m\u001b[38;5;241;43m1\u001b[39;49m\u001b[43m)\u001b[49m\u001b[38;5;241m.\u001b[39mreshape(\u001b[38;5;241m1\u001b[39m,  batch_size \u001b[38;5;241m*\u001b[39m current_beam_size, \u001b[38;5;241m-\u001b[39m\u001b[38;5;241m1\u001b[39m)\n\u001b[1;32m    138\u001b[0m src \u001b[38;5;241m=\u001b[39m vector_src\n\u001b[1;32m    139\u001b[0m src_key_padding_mask \u001b[38;5;241m=\u001b[39m torch\u001b[38;5;241m.\u001b[39mtensor([[\u001b[38;5;28;01mFalse\u001b[39;00m] \u001b[38;5;241m*\u001b[39m (batch_size \u001b[38;5;241m*\u001b[39m current_beam_size)])\u001b[38;5;241m.\u001b[39mto(device)\n",
      "\u001b[0;31mRuntimeError\u001b[0m: The expanded size of the tensor (1) must match the existing size (256) at non-singleton dimension 1.  Target sizes: [256, 1, -1].  Tensor sizes: [256, 1]"
     ]
    }
   ],
   "source": [
    "predict = model.pred(batch['electra_tensor'][0].to(DEVICE))"
   ]
  },
  {
   "cell_type": "code",
   "execution_count": null,
   "metadata": {},
   "outputs": [],
   "source": []
  },
  {
   "cell_type": "code",
   "execution_count": null,
   "metadata": {},
   "outputs": [],
   "source": [
    "len(train_dataloader)"
   ]
  },
  {
   "cell_type": "code",
   "execution_count": null,
   "metadata": {
    "scrolled": true
   },
   "outputs": [],
   "source": [
    "train_loss"
   ]
  },
  {
   "cell_type": "code",
   "execution_count": 47,
   "metadata": {
    "scrolled": true
   },
   "outputs": [
    {
     "data": {
      "text/plain": [
       "[6.454642506411518,\n",
       " 6.340938359904027,\n",
       " 6.336214072021079,\n",
       " 6.342511607823438,\n",
       " 6.368941136456726,\n",
       " 6.3682193551012265,\n",
       " 6.41158332759555,\n",
       " 6.44870211752277,\n",
       " 6.4256785043303175,\n",
       " 6.497470522886955,\n",
       " 6.511523946163008,\n",
       " 6.531416153461003,\n",
       " 6.522390513844396,\n",
       " 6.561673230643808,\n",
       " 6.581889009352975,\n",
       " 6.6205829756997066,\n",
       " 6.647244549070604,\n",
       " 6.653631835373705,\n",
       " 6.702942352614259,\n",
       " 6.714346876757159,\n",
       " 6.742327404717325,\n",
       " 6.8004858128873265,\n",
       " 6.843066767724476,\n",
       " 6.84583918152641,\n",
       " 6.867662250182669,\n",
       " 6.923126393218361,\n",
       " 6.954483285126557,\n",
       " 6.971151101552211,\n",
       " 7.004891927177299,\n",
       " 7.049436908509125,\n",
       " 7.079991868850412,\n",
       " 7.149646416296817,\n",
       " 7.11134300388849,\n",
       " 7.177245353769755,\n",
       " 7.225259102614446,\n",
       " 7.217293227026597,\n",
       " 7.221630703450591,\n",
       " 7.240278292240234,\n",
       " 7.283663765638719,\n",
       " 7.288300434868771,\n",
       " 7.3187953026476915,\n",
       " 7.3248090061069275,\n",
       " 7.366530262466999,\n",
       " 7.386619486935754,\n",
       " 7.410298622786355,\n",
       " 7.422255329290739,\n",
       " 7.439050151432846,\n",
       " 7.452951007740334,\n",
       " 7.480248914202321,\n",
       " 7.464062278740034,\n",
       " 7.519992956562643,\n",
       " 7.532116619641509,\n",
       " 7.519713493626679,\n",
       " 7.5486653146640315,\n",
       " 7.571487118799764,\n",
       " 7.582384462832131,\n",
       " 7.563506492058109,\n",
       " 7.633902062181644,\n",
       " 7.62972501171283,\n",
       " 7.6370826998867525,\n",
       " 7.680053954661152,\n",
       " 7.686967560722544,\n",
       " 7.691543271143514,\n",
       " 7.70736567849235,\n",
       " 7.6976581654329905,\n",
       " 7.702345709773076,\n",
       " 7.75845322452147,\n",
       " 7.730464606697916,\n",
       " 7.72025920585931,\n",
       " 7.786775473596753,\n",
       " 7.772526724533357,\n",
       " 7.784168511449162,\n",
       " 7.800123892073388,\n",
       " 7.826846885272805,\n",
       " 7.840267470543031,\n",
       " 7.865448640757891,\n",
       " 7.8785053495521025,\n",
       " 7.859519429388196,\n",
       " 7.884691475749414,\n",
       " 7.926160746812964,\n",
       " 7.8935751969921375,\n",
       " 7.906233206192394,\n",
       " 7.9294563075610665,\n",
       " 7.905878657651875,\n",
       " 7.9987857526153485,\n",
       " 7.986767502952404,\n",
       " 7.977172891204299,\n",
       " 8.011104146487522,\n",
       " 7.993760688456712,\n",
       " 8.017207632381174,\n",
       " 8.008796418256003,\n",
       " 8.03369893672356,\n",
       " 8.038142057073197,\n",
       " 8.054322675057245,\n",
       " 8.087807446228572,\n",
       " 8.099773961875842,\n",
       " 8.0829347104536,\n",
       " 8.057299824067934,\n",
       " 8.089723764552476,\n",
       " 8.053703056123108,\n",
       " 8.08725522128886,\n",
       " 8.141517282567493,\n",
       " 8.183457242731656,\n",
       " 8.140209326375077,\n",
       " 8.114090825093008,\n",
       " 8.167377849346789,\n",
       " 8.214078273838805,\n",
       " 8.149509019290322,\n",
       " 8.167645706412038,\n",
       " 8.207932142178912,\n",
       " 8.155866758505262,\n",
       " 8.25568400261845,\n",
       " 8.236917649935972,\n",
       " 8.191611249487417,\n",
       " 8.25186350003162,\n",
       " 8.238433150032005,\n",
       " 8.270505237985398,\n",
       " 8.305262704060858,\n",
       " 8.295923937454145,\n",
       " 8.287920333151321,\n",
       " 8.254563930199755,\n",
       " 8.29006057918747,\n",
       " 8.312720475939319,\n",
       " 8.314632847701917,\n",
       " 8.330083693938628,\n",
       " 8.3432104296034,\n",
       " 8.344599274152204,\n",
       " 8.332176839644918,\n",
       " 8.374334486140334,\n",
       " 8.2989946161504,\n",
       " 8.360201419921076,\n",
       " 8.373462311141186,\n",
       " 8.384940474697093,\n",
       " 8.366594157705624,\n",
       " 8.406741753577935,\n",
       " 8.431465265832383,\n",
       " 8.409299093736799,\n",
       " 8.429705238970865,\n",
       " 8.453104114644882,\n",
       " 8.485465051097163,\n",
       " 8.455964572881994,\n",
       " 8.444911539355298,\n",
       " 8.456849393798493,\n",
       " 8.493413055574818,\n",
       " 8.494925886456398,\n",
       " 8.545001722392112,\n",
       " 8.499376390458117,\n",
       " 8.514049938835347,\n",
       " 8.56302468269882,\n",
       " 8.540067795646598,\n",
       " 8.516208083510717,\n",
       " 8.58354722689878,\n",
       " 8.582410040601658,\n",
       " 8.570357939778951,\n",
       " 8.592203172605396,\n",
       " 8.59179209596092,\n",
       " 8.637234347385817,\n",
       " 8.599389056159662,\n",
       " 8.594876770414482,\n",
       " 8.658651339403004,\n",
       " 8.634609533214824,\n",
       " 8.650131944644121,\n",
       " 8.675710490123214,\n",
       " 8.62308055291042,\n",
       " 8.66344345513784,\n",
       " 8.588900631964272,\n",
       " 8.62260096202365,\n",
       " 8.674362693188874,\n",
       " 8.638425637764307,\n",
       " 8.67892662265452,\n",
       " 8.668816077299416,\n",
       " 8.70454701519102,\n",
       " 8.709132142741531,\n",
       " 8.691483398813363,\n",
       " 8.72384180406338,\n",
       " 8.761172229808782,\n",
       " 8.78832256673823,\n",
       " 8.769187125417302,\n",
       " 8.736407589188056,\n",
       " 8.772487366834095,\n",
       " 8.739563999881227,\n",
       " 8.765885320902358,\n",
       " 8.723687595997754,\n",
       " 8.744094953243115,\n",
       " 8.776796705289055,\n",
       " 8.81176475327978,\n",
       " 8.793460800157318,\n",
       " 8.798306308256413,\n",
       " 8.789404940723882,\n",
       " 8.764740685434068,\n",
       " 8.758997713437553,\n",
       " 8.802866627898107,\n",
       " 8.82213861267658,\n",
       " 8.791590533857926,\n",
       " 8.831603786610463,\n",
       " 8.817592398690362,\n",
       " 8.852752652512043,\n",
       " 8.877435666264352,\n",
       " 8.88450432241254,\n",
       " 8.885141218563994]"
      ]
     },
     "execution_count": 47,
     "metadata": {},
     "output_type": "execute_result"
    }
   ],
   "source": [
    "validation_loss"
   ]
  },
  {
   "cell_type": "code",
   "execution_count": 48,
   "metadata": {
    "scrolled": true
   },
   "outputs": [
    {
     "data": {
      "text/plain": [
       "[0.24009525871400736,\n",
       " 0.2613239999037791,\n",
       " 0.27434990738736137,\n",
       " 0.27831902047100143,\n",
       " 0.28391186163431237,\n",
       " 0.2862091361766616,\n",
       " 0.2879050299487624,\n",
       " 0.29330542926559383,\n",
       " 0.2921988886483366,\n",
       " 0.2987539390440451,\n",
       " 0.2994876235837483,\n",
       " 0.3002934738158813,\n",
       " 0.30479180197733996,\n",
       " 0.3042505592841163,\n",
       " 0.30699285559644945,\n",
       " 0.309181881600154,\n",
       " 0.3086646941377402,\n",
       " 0.31229703399004116,\n",
       " 0.31232108922085106,\n",
       " 0.31349979553053814,\n",
       " 0.31610978807341655,\n",
       " 0.3166871136128551,\n",
       " 0.31598951191936686,\n",
       " 0.3157008491496476,\n",
       " 0.3169396935363595,\n",
       " 0.3174809362295831,\n",
       " 0.3156888215342426,\n",
       " 0.31507541314858917,\n",
       " 0.3205960886194703,\n",
       " 0.31820259315388133,\n",
       " 0.3164225060739458,\n",
       " 0.31934521661735343,\n",
       " 0.31780568184551733,\n",
       " 0.32053595054244544,\n",
       " 0.3186836977700801,\n",
       " 0.3195977965408578,\n",
       " 0.31791393038416205,\n",
       " 0.31876789107791487,\n",
       " 0.3180582617690217,\n",
       " 0.3214741045440331,\n",
       " 0.3200307906954367,\n",
       " 0.318743835847105,\n",
       " 0.32188304346780205,\n",
       " 0.32270092131534,\n",
       " 0.3212215246205287,\n",
       " 0.3215462702364629,\n",
       " 0.31950157561761805,\n",
       " 0.3204397296192057,\n",
       " 0.3234346058550432,\n",
       " 0.3194775203868081,\n",
       " 0.3229053907772245,\n",
       " 0.32403598662529165,\n",
       " 0.32510644439633396,\n",
       " 0.3211613865435039,\n",
       " 0.32024728777272615,\n",
       " 0.3227610593923649,\n",
       " 0.32208751292968657,\n",
       " 0.32333838493180345,\n",
       " 0.3237713790863823,\n",
       " 0.3223641480840009,\n",
       " 0.32385557239421714,\n",
       " 0.3250703615501191,\n",
       " 0.322304010006976,\n",
       " 0.3241803180101513,\n",
       " 0.3211613865435039,\n",
       " 0.324288566548796,\n",
       " 0.3234346058550432,\n",
       " 0.32153424262105795,\n",
       " 0.32498616824228427,\n",
       " 0.32392773808664693,\n",
       " 0.3259724327054918,\n",
       " 0.3240600418561016,\n",
       " 0.3248658920882346,\n",
       " 0.32408409708691155,\n",
       " 0.3232782468547786,\n",
       " 0.3245050636260855,\n",
       " 0.3245050636260855,\n",
       " 0.32332635731639847,\n",
       " 0.32683842101464966,\n",
       " 0.3256837699357725,\n",
       " 0.32397584854826683,\n",
       " 0.32336244016261334,\n",
       " 0.32547930047388807,\n",
       " 0.32861850809458515,\n",
       " 0.32487791970363955,\n",
       " 0.3267301724760049,\n",
       " 0.32687450386086453,\n",
       " 0.32268889369993503,\n",
       " 0.32006687354165164,\n",
       " 0.3207885304659498,\n",
       " 0.32617690216737627,\n",
       " 0.32476967116499483,\n",
       " 0.3240720694715066,\n",
       " 0.3230737773928941,\n",
       " 0.3236631305477376,\n",
       " 0.3237834067017873,\n",
       " 0.32431262177960596,\n",
       " 0.32260470039210026,\n",
       " 0.32663395155276514,\n",
       " 0.3268504486300546,\n",
       " 0.32313391546991893,\n",
       " 0.3259724327054918,\n",
       " 0.3207765028505449,\n",
       " 0.325094416780929,\n",
       " 0.32296552885424934,\n",
       " 0.3204758124654206,\n",
       " 0.3230256669312742,\n",
       " 0.3253349690890284,\n",
       " 0.3202713430035361,\n",
       " 0.32397584854826683,\n",
       " 0.32141396646700826,\n",
       " 0.32074042000432995,\n",
       " 0.32153424262105795,\n",
       " 0.3212696350821486,\n",
       " 0.3198142936181473,\n",
       " 0.3224002309302158,\n",
       " 0.32137788362079334,\n",
       " 0.3208246133121647,\n",
       " 0.3223641480840009,\n",
       " 0.3227490317769599,\n",
       " 0.32413220754853145,\n",
       " 0.3216184359288927,\n",
       " 0.3204277020038007,\n",
       " 0.3232782468547786,\n",
       " 0.31790190276875707,\n",
       " 0.32052392292704046,\n",
       " 0.3208727237737846,\n",
       " 0.3235548820090929,\n",
       " 0.3198142936181473,\n",
       " 0.32304972216208416,\n",
       " 0.3220634576988766,\n",
       " 0.3203916191575858,\n",
       " 0.3210411103894542,\n",
       " 0.3237834067017873,\n",
       " 0.32188304346780205,\n",
       " 0.3202713430035361,\n",
       " 0.32243631377643067,\n",
       " 0.3224723966226456,\n",
       " 0.3246133121647302,\n",
       " 0.3203795915421809,\n",
       " 0.32385557239421714,\n",
       " 0.3251425272425489,\n",
       " 0.3216665463905126,\n",
       " 0.3204758124654206,\n",
       " 0.31831084169252605,\n",
       " 0.31974212792571743,\n",
       " 0.3218710158523971,\n",
       " 0.3194654927714031,\n",
       " 0.32149815977484303,\n",
       " 0.3213538283899834,\n",
       " 0.32041567438839574,\n",
       " 0.32182290539077724,\n",
       " 0.3212816626975536,\n",
       " 0.3209569170816194,\n",
       " 0.31886411200115466,\n",
       " 0.3199947078492218,\n",
       " 0.31841909023117076,\n",
       " 0.31803420653821174,\n",
       " 0.32006687354165164,\n",
       " 0.3204277020038007,\n",
       " 0.3186716701546751,\n",
       " 0.31814245507685646,\n",
       " 0.3222679271607611,\n",
       " 0.3256837699357725,\n",
       " 0.3225806451612903,\n",
       " 0.323494743932068,\n",
       " 0.32045175723461067,\n",
       " 0.3182747588463111,\n",
       " 0.3212215246205287,\n",
       " 0.32232806523778595,\n",
       " 0.32023526015732123,\n",
       " 0.3194654927714031,\n",
       " 0.32000673546462677,\n",
       " 0.3204277020038007,\n",
       " 0.3189603329243944,\n",
       " 0.3145461980707705,\n",
       " 0.31834692453874097,\n",
       " 0.31797406846118687,\n",
       " 0.32208751292968657,\n",
       " 0.3174328257679632,\n",
       " 0.31921291284789877,\n",
       " 0.32096894469702436,\n",
       " 0.3217266844675375,\n",
       " 0.3179620408457819,\n",
       " 0.3220754853142816,\n",
       " 0.32339852300882826,\n",
       " 0.31926102330951867,\n",
       " 0.3221115681604965,\n",
       " 0.319116691924659,\n",
       " 0.32278511462317483,\n",
       " 0.3238676000096221,\n",
       " 0.3232301363931587,\n",
       " 0.3237834067017873,\n",
       " 0.32253253469967047,\n",
       " 0.32159438069808277,\n",
       " 0.3217266844675375,\n",
       " 0.32193115392942195,\n",
       " 0.3225205070842655,\n",
       " 0.32118544177431385,\n",
       " 0.3207524476197349]"
      ]
     },
     "execution_count": 48,
     "metadata": {},
     "output_type": "execute_result"
    }
   ],
   "source": [
    "validation_accuracy"
   ]
  },
  {
   "cell_type": "code",
   "execution_count": 49,
   "metadata": {},
   "outputs": [
    {
     "name": "stdout",
     "output_type": "stream",
     "text": [
      "tensor(0.8446, device='cuda:0', grad_fn=<NllLossBackward>)\n"
     ]
    }
   ],
   "source": [
    "print(loss)"
   ]
  },
  {
   "cell_type": "code",
   "execution_count": 50,
   "metadata": {},
   "outputs": [
    {
     "data": {
      "text/plain": [
       "<function Tensor.item>"
      ]
     },
     "execution_count": 50,
     "metadata": {},
     "output_type": "execute_result"
    }
   ],
   "source": [
    "loss.item"
   ]
  },
  {
   "cell_type": "code",
   "execution_count": 51,
   "metadata": {},
   "outputs": [
    {
     "data": {
      "text/plain": [
       "0.8446415066719055"
      ]
     },
     "execution_count": 51,
     "metadata": {},
     "output_type": "execute_result"
    }
   ],
   "source": [
    "loss.item()"
   ]
  },
  {
   "cell_type": "code",
   "execution_count": null,
   "metadata": {},
   "outputs": [],
   "source": []
  },
  {
   "cell_type": "code",
   "execution_count": 52,
   "metadata": {
    "scrolled": true
   },
   "outputs": [
    {
     "data": {
      "image/png": "[encoded data removed]",
      "text/plain": [
       "<Figure size 432x288 with 1 Axes>"
      ]
     },
     "metadata": {
      "needs_background": "light"
     },
     "output_type": "display_data"
    }
   ],
   "source": [
    "x_list = range(0, len(train_loss))\n",
    "plt.xlabel('epoch')\n",
    "plt.ylabel('train_loss')\n",
    "plt.plot(x_list, train_loss)\n",
    "plt.show()"
   ]
  },
  {
   "cell_type": "code",
   "execution_count": 53,
   "metadata": {},
   "outputs": [
    {
     "data": {
      "image/png": "[encoded data removed]",
      "text/plain": [
       "<Figure size 432x288 with 1 Axes>"
      ]
     },
     "metadata": {
      "needs_background": "light"
     },
     "output_type": "display_data"
    }
   ],
   "source": [
    "x_list = range(0, len(validation_loss))\n",
    "plt.xlabel('epoch')\n",
    "plt.ylabel('validation_loss')\n",
    "plt.plot(x_list, validation_loss)\n",
    "plt.show()"
   ]
  },
  {
   "cell_type": "code",
   "execution_count": 54,
   "metadata": {},
   "outputs": [
    {
     "data": {
      "image/png": "[encoded data removed]",
      "text/plain": [
       "<Figure size 432x288 with 1 Axes>"
      ]
     },
     "metadata": {
      "needs_background": "light"
     },
     "output_type": "display_data"
    }
   ],
   "source": [
    "x_list = range(0, len(validation_accuracy))\n",
    "plt.xlabel('epoch')\n",
    "plt.ylabel('validation_accuracy')\n",
    "plt.plot(x_list, validation_accuracy)\n",
    "plt.show()"
   ]
  },
  {
   "cell_type": "code",
   "execution_count": 22,
   "metadata": {},
   "outputs": [],
   "source": [
    "import torch.nn as nn"
   ]
  },
  {
   "cell_type": "code",
   "execution_count": 28,
   "metadata": {},
   "outputs": [
    {
     "ename": "ValueError",
     "evalue": "too many values to unpack (expected 3)",
     "output_type": "error",
     "traceback": [
      "\u001b[0;31m---------------------------------------------------------------------------\u001b[0m",
      "\u001b[0;31mValueError\u001b[0m                                Traceback (most recent call last)",
      "Input \u001b[0;32mIn [28]\u001b[0m, in \u001b[0;36m<module>\u001b[0;34m\u001b[0m\n\u001b[1;32m      2\u001b[0m transformer_encoder \u001b[38;5;241m=\u001b[39m nn\u001b[38;5;241m.\u001b[39mTransformerEncoder(encoder_layer, num_layers\u001b[38;5;241m=\u001b[39m\u001b[38;5;241m6\u001b[39m)\n\u001b[1;32m      3\u001b[0m src \u001b[38;5;241m=\u001b[39m torch\u001b[38;5;241m.\u001b[39mrand(\u001b[38;5;241m8\u001b[39m, \u001b[38;5;241m16\u001b[39m, \u001b[38;5;241m16\u001b[39m, \u001b[38;5;241m512\u001b[39m)\n\u001b[0;32m----> 4\u001b[0m out \u001b[38;5;241m=\u001b[39m \u001b[43mtransformer_encoder\u001b[49m\u001b[43m(\u001b[49m\u001b[43msrc\u001b[49m\u001b[43m)\u001b[49m\n",
      "File \u001b[0;32m/usr/local/lib/python3.8/dist-packages/torch/nn/modules/module.py:1051\u001b[0m, in \u001b[0;36mModule._call_impl\u001b[0;34m(self, *input, **kwargs)\u001b[0m\n\u001b[1;32m   1047\u001b[0m \u001b[38;5;66;03m# If we don't have any hooks, we want to skip the rest of the logic in\u001b[39;00m\n\u001b[1;32m   1048\u001b[0m \u001b[38;5;66;03m# this function, and just call forward.\u001b[39;00m\n\u001b[1;32m   1049\u001b[0m \u001b[38;5;28;01mif\u001b[39;00m \u001b[38;5;129;01mnot\u001b[39;00m (\u001b[38;5;28mself\u001b[39m\u001b[38;5;241m.\u001b[39m_backward_hooks \u001b[38;5;129;01mor\u001b[39;00m \u001b[38;5;28mself\u001b[39m\u001b[38;5;241m.\u001b[39m_forward_hooks \u001b[38;5;129;01mor\u001b[39;00m \u001b[38;5;28mself\u001b[39m\u001b[38;5;241m.\u001b[39m_forward_pre_hooks \u001b[38;5;129;01mor\u001b[39;00m _global_backward_hooks\n\u001b[1;32m   1050\u001b[0m         \u001b[38;5;129;01mor\u001b[39;00m _global_forward_hooks \u001b[38;5;129;01mor\u001b[39;00m _global_forward_pre_hooks):\n\u001b[0;32m-> 1051\u001b[0m     \u001b[38;5;28;01mreturn\u001b[39;00m \u001b[43mforward_call\u001b[49m\u001b[43m(\u001b[49m\u001b[38;5;241;43m*\u001b[39;49m\u001b[38;5;28;43minput\u001b[39;49m\u001b[43m,\u001b[49m\u001b[43m \u001b[49m\u001b[38;5;241;43m*\u001b[39;49m\u001b[38;5;241;43m*\u001b[39;49m\u001b[43mkwargs\u001b[49m\u001b[43m)\u001b[49m\n\u001b[1;32m   1052\u001b[0m \u001b[38;5;66;03m# Do not call functions when jit is used\u001b[39;00m\n\u001b[1;32m   1053\u001b[0m full_backward_hooks, non_full_backward_hooks \u001b[38;5;241m=\u001b[39m [], []\n",
      "File \u001b[0;32m/usr/local/lib/python3.8/dist-packages/torch/nn/modules/transformer.py:195\u001b[0m, in \u001b[0;36mTransformerEncoder.forward\u001b[0;34m(self, src, mask, src_key_padding_mask)\u001b[0m\n\u001b[1;32m    192\u001b[0m output \u001b[38;5;241m=\u001b[39m src\n\u001b[1;32m    194\u001b[0m \u001b[38;5;28;01mfor\u001b[39;00m mod \u001b[38;5;129;01min\u001b[39;00m \u001b[38;5;28mself\u001b[39m\u001b[38;5;241m.\u001b[39mlayers:\n\u001b[0;32m--> 195\u001b[0m     output \u001b[38;5;241m=\u001b[39m \u001b[43mmod\u001b[49m\u001b[43m(\u001b[49m\u001b[43moutput\u001b[49m\u001b[43m,\u001b[49m\u001b[43m \u001b[49m\u001b[43msrc_mask\u001b[49m\u001b[38;5;241;43m=\u001b[39;49m\u001b[43mmask\u001b[49m\u001b[43m,\u001b[49m\u001b[43m \u001b[49m\u001b[43msrc_key_padding_mask\u001b[49m\u001b[38;5;241;43m=\u001b[39;49m\u001b[43msrc_key_padding_mask\u001b[49m\u001b[43m)\u001b[49m\n\u001b[1;32m    197\u001b[0m \u001b[38;5;28;01mif\u001b[39;00m \u001b[38;5;28mself\u001b[39m\u001b[38;5;241m.\u001b[39mnorm \u001b[38;5;129;01mis\u001b[39;00m \u001b[38;5;129;01mnot\u001b[39;00m \u001b[38;5;28;01mNone\u001b[39;00m:\n\u001b[1;32m    198\u001b[0m     output \u001b[38;5;241m=\u001b[39m \u001b[38;5;28mself\u001b[39m\u001b[38;5;241m.\u001b[39mnorm(output)\n",
      "File \u001b[0;32m/usr/local/lib/python3.8/dist-packages/torch/nn/modules/module.py:1051\u001b[0m, in \u001b[0;36mModule._call_impl\u001b[0;34m(self, *input, **kwargs)\u001b[0m\n\u001b[1;32m   1047\u001b[0m \u001b[38;5;66;03m# If we don't have any hooks, we want to skip the rest of the logic in\u001b[39;00m\n\u001b[1;32m   1048\u001b[0m \u001b[38;5;66;03m# this function, and just call forward.\u001b[39;00m\n\u001b[1;32m   1049\u001b[0m \u001b[38;5;28;01mif\u001b[39;00m \u001b[38;5;129;01mnot\u001b[39;00m (\u001b[38;5;28mself\u001b[39m\u001b[38;5;241m.\u001b[39m_backward_hooks \u001b[38;5;129;01mor\u001b[39;00m \u001b[38;5;28mself\u001b[39m\u001b[38;5;241m.\u001b[39m_forward_hooks \u001b[38;5;129;01mor\u001b[39;00m \u001b[38;5;28mself\u001b[39m\u001b[38;5;241m.\u001b[39m_forward_pre_hooks \u001b[38;5;129;01mor\u001b[39;00m _global_backward_hooks\n\u001b[1;32m   1050\u001b[0m         \u001b[38;5;129;01mor\u001b[39;00m _global_forward_hooks \u001b[38;5;129;01mor\u001b[39;00m _global_forward_pre_hooks):\n\u001b[0;32m-> 1051\u001b[0m     \u001b[38;5;28;01mreturn\u001b[39;00m \u001b[43mforward_call\u001b[49m\u001b[43m(\u001b[49m\u001b[38;5;241;43m*\u001b[39;49m\u001b[38;5;28;43minput\u001b[39;49m\u001b[43m,\u001b[49m\u001b[43m \u001b[49m\u001b[38;5;241;43m*\u001b[39;49m\u001b[38;5;241;43m*\u001b[39;49m\u001b[43mkwargs\u001b[49m\u001b[43m)\u001b[49m\n\u001b[1;32m   1052\u001b[0m \u001b[38;5;66;03m# Do not call functions when jit is used\u001b[39;00m\n\u001b[1;32m   1053\u001b[0m full_backward_hooks, non_full_backward_hooks \u001b[38;5;241m=\u001b[39m [], []\n",
      "File \u001b[0;32m/usr/local/lib/python3.8/dist-packages/torch/nn/modules/transformer.py:320\u001b[0m, in \u001b[0;36mTransformerEncoderLayer.forward\u001b[0;34m(self, src, src_mask, src_key_padding_mask)\u001b[0m\n\u001b[1;32m    309\u001b[0m \u001b[38;5;28;01mdef\u001b[39;00m \u001b[38;5;21mforward\u001b[39m(\u001b[38;5;28mself\u001b[39m, src: Tensor, src_mask: Optional[Tensor] \u001b[38;5;241m=\u001b[39m \u001b[38;5;28;01mNone\u001b[39;00m, src_key_padding_mask: Optional[Tensor] \u001b[38;5;241m=\u001b[39m \u001b[38;5;28;01mNone\u001b[39;00m) \u001b[38;5;241m-\u001b[39m\u001b[38;5;241m>\u001b[39m Tensor:\n\u001b[1;32m    310\u001b[0m     \u001b[38;5;124mr\u001b[39m\u001b[38;5;124;03m\"\"\"Pass the input through the encoder layer.\u001b[39;00m\n\u001b[1;32m    311\u001b[0m \n\u001b[1;32m    312\u001b[0m \u001b[38;5;124;03m    Args:\u001b[39;00m\n\u001b[0;32m   (...)\u001b[0m\n\u001b[1;32m    318\u001b[0m \u001b[38;5;124;03m        see the docs in Transformer class.\u001b[39;00m\n\u001b[1;32m    319\u001b[0m \u001b[38;5;124;03m    \"\"\"\u001b[39;00m\n\u001b[0;32m--> 320\u001b[0m     src2 \u001b[38;5;241m=\u001b[39m \u001b[38;5;28;43mself\u001b[39;49m\u001b[38;5;241;43m.\u001b[39;49m\u001b[43mself_attn\u001b[49m\u001b[43m(\u001b[49m\u001b[43msrc\u001b[49m\u001b[43m,\u001b[49m\u001b[43m \u001b[49m\u001b[43msrc\u001b[49m\u001b[43m,\u001b[49m\u001b[43m \u001b[49m\u001b[43msrc\u001b[49m\u001b[43m,\u001b[49m\u001b[43m \u001b[49m\u001b[43mattn_mask\u001b[49m\u001b[38;5;241;43m=\u001b[39;49m\u001b[43msrc_mask\u001b[49m\u001b[43m,\u001b[49m\n\u001b[1;32m    321\u001b[0m \u001b[43m                          \u001b[49m\u001b[43mkey_padding_mask\u001b[49m\u001b[38;5;241;43m=\u001b[39;49m\u001b[43msrc_key_padding_mask\u001b[49m\u001b[43m)\u001b[49m[\u001b[38;5;241m0\u001b[39m]\n\u001b[1;32m    322\u001b[0m     src \u001b[38;5;241m=\u001b[39m src \u001b[38;5;241m+\u001b[39m \u001b[38;5;28mself\u001b[39m\u001b[38;5;241m.\u001b[39mdropout1(src2)\n\u001b[1;32m    323\u001b[0m     src \u001b[38;5;241m=\u001b[39m \u001b[38;5;28mself\u001b[39m\u001b[38;5;241m.\u001b[39mnorm1(src)\n",
      "File \u001b[0;32m/usr/local/lib/python3.8/dist-packages/torch/nn/modules/module.py:1051\u001b[0m, in \u001b[0;36mModule._call_impl\u001b[0;34m(self, *input, **kwargs)\u001b[0m\n\u001b[1;32m   1047\u001b[0m \u001b[38;5;66;03m# If we don't have any hooks, we want to skip the rest of the logic in\u001b[39;00m\n\u001b[1;32m   1048\u001b[0m \u001b[38;5;66;03m# this function, and just call forward.\u001b[39;00m\n\u001b[1;32m   1049\u001b[0m \u001b[38;5;28;01mif\u001b[39;00m \u001b[38;5;129;01mnot\u001b[39;00m (\u001b[38;5;28mself\u001b[39m\u001b[38;5;241m.\u001b[39m_backward_hooks \u001b[38;5;129;01mor\u001b[39;00m \u001b[38;5;28mself\u001b[39m\u001b[38;5;241m.\u001b[39m_forward_hooks \u001b[38;5;129;01mor\u001b[39;00m \u001b[38;5;28mself\u001b[39m\u001b[38;5;241m.\u001b[39m_forward_pre_hooks \u001b[38;5;129;01mor\u001b[39;00m _global_backward_hooks\n\u001b[1;32m   1050\u001b[0m         \u001b[38;5;129;01mor\u001b[39;00m _global_forward_hooks \u001b[38;5;129;01mor\u001b[39;00m _global_forward_pre_hooks):\n\u001b[0;32m-> 1051\u001b[0m     \u001b[38;5;28;01mreturn\u001b[39;00m \u001b[43mforward_call\u001b[49m\u001b[43m(\u001b[49m\u001b[38;5;241;43m*\u001b[39;49m\u001b[38;5;28;43minput\u001b[39;49m\u001b[43m,\u001b[49m\u001b[43m \u001b[49m\u001b[38;5;241;43m*\u001b[39;49m\u001b[38;5;241;43m*\u001b[39;49m\u001b[43mkwargs\u001b[49m\u001b[43m)\u001b[49m\n\u001b[1;32m   1052\u001b[0m \u001b[38;5;66;03m# Do not call functions when jit is used\u001b[39;00m\n\u001b[1;32m   1053\u001b[0m full_backward_hooks, non_full_backward_hooks \u001b[38;5;241m=\u001b[39m [], []\n",
      "File \u001b[0;32m/usr/local/lib/python3.8/dist-packages/torch/nn/modules/activation.py:1031\u001b[0m, in \u001b[0;36mMultiheadAttention.forward\u001b[0;34m(self, query, key, value, key_padding_mask, need_weights, attn_mask)\u001b[0m\n\u001b[1;32m   1020\u001b[0m     attn_output, attn_output_weights \u001b[38;5;241m=\u001b[39m F\u001b[38;5;241m.\u001b[39mmulti_head_attention_forward(\n\u001b[1;32m   1021\u001b[0m         query, key, value, \u001b[38;5;28mself\u001b[39m\u001b[38;5;241m.\u001b[39membed_dim, \u001b[38;5;28mself\u001b[39m\u001b[38;5;241m.\u001b[39mnum_heads,\n\u001b[1;32m   1022\u001b[0m         \u001b[38;5;28mself\u001b[39m\u001b[38;5;241m.\u001b[39min_proj_weight, \u001b[38;5;28mself\u001b[39m\u001b[38;5;241m.\u001b[39min_proj_bias,\n\u001b[0;32m   (...)\u001b[0m\n\u001b[1;32m   1028\u001b[0m         q_proj_weight\u001b[38;5;241m=\u001b[39m\u001b[38;5;28mself\u001b[39m\u001b[38;5;241m.\u001b[39mq_proj_weight, k_proj_weight\u001b[38;5;241m=\u001b[39m\u001b[38;5;28mself\u001b[39m\u001b[38;5;241m.\u001b[39mk_proj_weight,\n\u001b[1;32m   1029\u001b[0m         v_proj_weight\u001b[38;5;241m=\u001b[39m\u001b[38;5;28mself\u001b[39m\u001b[38;5;241m.\u001b[39mv_proj_weight)\n\u001b[1;32m   1030\u001b[0m \u001b[38;5;28;01melse\u001b[39;00m:\n\u001b[0;32m-> 1031\u001b[0m     attn_output, attn_output_weights \u001b[38;5;241m=\u001b[39m \u001b[43mF\u001b[49m\u001b[38;5;241;43m.\u001b[39;49m\u001b[43mmulti_head_attention_forward\u001b[49m\u001b[43m(\u001b[49m\n\u001b[1;32m   1032\u001b[0m \u001b[43m        \u001b[49m\u001b[43mquery\u001b[49m\u001b[43m,\u001b[49m\u001b[43m \u001b[49m\u001b[43mkey\u001b[49m\u001b[43m,\u001b[49m\u001b[43m \u001b[49m\u001b[43mvalue\u001b[49m\u001b[43m,\u001b[49m\u001b[43m \u001b[49m\u001b[38;5;28;43mself\u001b[39;49m\u001b[38;5;241;43m.\u001b[39;49m\u001b[43membed_dim\u001b[49m\u001b[43m,\u001b[49m\u001b[43m \u001b[49m\u001b[38;5;28;43mself\u001b[39;49m\u001b[38;5;241;43m.\u001b[39;49m\u001b[43mnum_heads\u001b[49m\u001b[43m,\u001b[49m\n\u001b[1;32m   1033\u001b[0m \u001b[43m        \u001b[49m\u001b[38;5;28;43mself\u001b[39;49m\u001b[38;5;241;43m.\u001b[39;49m\u001b[43min_proj_weight\u001b[49m\u001b[43m,\u001b[49m\u001b[43m \u001b[49m\u001b[38;5;28;43mself\u001b[39;49m\u001b[38;5;241;43m.\u001b[39;49m\u001b[43min_proj_bias\u001b[49m\u001b[43m,\u001b[49m\n\u001b[1;32m   1034\u001b[0m \u001b[43m        \u001b[49m\u001b[38;5;28;43mself\u001b[39;49m\u001b[38;5;241;43m.\u001b[39;49m\u001b[43mbias_k\u001b[49m\u001b[43m,\u001b[49m\u001b[43m \u001b[49m\u001b[38;5;28;43mself\u001b[39;49m\u001b[38;5;241;43m.\u001b[39;49m\u001b[43mbias_v\u001b[49m\u001b[43m,\u001b[49m\u001b[43m \u001b[49m\u001b[38;5;28;43mself\u001b[39;49m\u001b[38;5;241;43m.\u001b[39;49m\u001b[43madd_zero_attn\u001b[49m\u001b[43m,\u001b[49m\n\u001b[1;32m   1035\u001b[0m \u001b[43m        \u001b[49m\u001b[38;5;28;43mself\u001b[39;49m\u001b[38;5;241;43m.\u001b[39;49m\u001b[43mdropout\u001b[49m\u001b[43m,\u001b[49m\u001b[43m \u001b[49m\u001b[38;5;28;43mself\u001b[39;49m\u001b[38;5;241;43m.\u001b[39;49m\u001b[43mout_proj\u001b[49m\u001b[38;5;241;43m.\u001b[39;49m\u001b[43mweight\u001b[49m\u001b[43m,\u001b[49m\u001b[43m \u001b[49m\u001b[38;5;28;43mself\u001b[39;49m\u001b[38;5;241;43m.\u001b[39;49m\u001b[43mout_proj\u001b[49m\u001b[38;5;241;43m.\u001b[39;49m\u001b[43mbias\u001b[49m\u001b[43m,\u001b[49m\n\u001b[1;32m   1036\u001b[0m \u001b[43m        \u001b[49m\u001b[43mtraining\u001b[49m\u001b[38;5;241;43m=\u001b[39;49m\u001b[38;5;28;43mself\u001b[39;49m\u001b[38;5;241;43m.\u001b[39;49m\u001b[43mtraining\u001b[49m\u001b[43m,\u001b[49m\n\u001b[1;32m   1037\u001b[0m \u001b[43m        \u001b[49m\u001b[43mkey_padding_mask\u001b[49m\u001b[38;5;241;43m=\u001b[39;49m\u001b[43mkey_padding_mask\u001b[49m\u001b[43m,\u001b[49m\u001b[43m \u001b[49m\u001b[43mneed_weights\u001b[49m\u001b[38;5;241;43m=\u001b[39;49m\u001b[43mneed_weights\u001b[49m\u001b[43m,\u001b[49m\n\u001b[1;32m   1038\u001b[0m \u001b[43m        \u001b[49m\u001b[43mattn_mask\u001b[49m\u001b[38;5;241;43m=\u001b[39;49m\u001b[43mattn_mask\u001b[49m\u001b[43m)\u001b[49m\n\u001b[1;32m   1039\u001b[0m \u001b[38;5;28;01mif\u001b[39;00m \u001b[38;5;28mself\u001b[39m\u001b[38;5;241m.\u001b[39mbatch_first:\n\u001b[1;32m   1040\u001b[0m     \u001b[38;5;28;01mreturn\u001b[39;00m attn_output\u001b[38;5;241m.\u001b[39mtranspose(\u001b[38;5;241m1\u001b[39m, \u001b[38;5;241m0\u001b[39m), attn_output_weights\n",
      "File \u001b[0;32m/usr/local/lib/python3.8/dist-packages/torch/nn/functional.py:4948\u001b[0m, in \u001b[0;36mmulti_head_attention_forward\u001b[0;34m(query, key, value, embed_dim_to_check, num_heads, in_proj_weight, in_proj_bias, bias_k, bias_v, add_zero_attn, dropout_p, out_proj_weight, out_proj_bias, training, key_padding_mask, need_weights, attn_mask, use_separate_proj_weight, q_proj_weight, k_proj_weight, v_proj_weight, static_k, static_v)\u001b[0m\n\u001b[1;32m   4919\u001b[0m     \u001b[38;5;28;01mreturn\u001b[39;00m handle_torch_function(\n\u001b[1;32m   4920\u001b[0m         multi_head_attention_forward,\n\u001b[1;32m   4921\u001b[0m         tens_ops,\n\u001b[0;32m   (...)\u001b[0m\n\u001b[1;32m   4944\u001b[0m         static_v\u001b[38;5;241m=\u001b[39mstatic_v,\n\u001b[1;32m   4945\u001b[0m     )\n\u001b[1;32m   4947\u001b[0m \u001b[38;5;66;03m# set up shape vars\u001b[39;00m\n\u001b[0;32m-> 4948\u001b[0m tgt_len, bsz, embed_dim \u001b[38;5;241m=\u001b[39m query\u001b[38;5;241m.\u001b[39mshape\n\u001b[1;32m   4949\u001b[0m src_len, _, _ \u001b[38;5;241m=\u001b[39m key\u001b[38;5;241m.\u001b[39mshape\n\u001b[1;32m   4950\u001b[0m \u001b[38;5;28;01massert\u001b[39;00m embed_dim \u001b[38;5;241m==\u001b[39m embed_dim_to_check, \\\n\u001b[1;32m   4951\u001b[0m     \u001b[38;5;124mf\u001b[39m\u001b[38;5;124m\"\u001b[39m\u001b[38;5;124mwas expecting embedding dimension of \u001b[39m\u001b[38;5;132;01m{\u001b[39;00membed_dim_to_check\u001b[38;5;132;01m}\u001b[39;00m\u001b[38;5;124m, but got \u001b[39m\u001b[38;5;132;01m{\u001b[39;00membed_dim\u001b[38;5;132;01m}\u001b[39;00m\u001b[38;5;124m\"\u001b[39m\n",
      "\u001b[0;31mValueError\u001b[0m: too many values to unpack (expected 3)"
     ]
    }
   ],
   "source": [
    "encoder_layer = nn.TransformerEncoderLayer(d_model=512, nhead=8)\n",
    "transformer_encoder = nn.TransformerEncoder(encoder_layer, num_layers=6)\n",
    "src = torch.rand(16, 16, 512)\n",
    "out = transformer_encoder(src)"
   ]
  },
  {
   "cell_type": "code",
   "execution_count": null,
   "metadata": {},
   "outputs": [],
   "source": [
    "out.shape"
   ]
  },
  {
   "cell_type": "code",
   "execution_count": null,
   "metadata": {},
   "outputs": [],
   "source": []
  },
  {
   "cell_type": "code",
   "execution_count": null,
   "metadata": {},
   "outputs": [],
   "source": []
  }
 ],
 "metadata": {
  "kernelspec": {
   "display_name": "Python 3 (ipykernel)",
   "language": "python",
   "name": "python3"
  },
  "language_info": {
   "codemirror_mode": {
    "name": "ipython",
    "version": 3
   },
   "file_extension": ".py",
   "mimetype": "text/x-python",
   "name": "python",
   "nbconvert_exporter": "python",
   "pygments_lexer": "ipython3",
   "version": "3.7.6"
  }
 },
 "nbformat": 4,
 "nbformat_minor": 5
}
